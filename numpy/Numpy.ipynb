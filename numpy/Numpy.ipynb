{
 "cells": [
  {
   "cell_type": "code",
   "execution_count": 49,
   "metadata": {
    "executionInfo": {
     "elapsed": 1448,
     "status": "ok",
     "timestamp": 1753771321075,
     "user": {
      "displayName": "ABCD",
      "userId": "12404135188052131939"
     },
     "user_tz": -330
    },
    "id": "l7KxsjWULez4"
   },
   "outputs": [],
   "source": [
    "# numpy is a python libery which is used to wiorking with the array\n",
    "# numpy stand for Numaric python\n",
    "# is faster than list\n",
    "# is faster then 50 times of list"
   ]
  },
  {
   "cell_type": "code",
   "execution_count": 49,
   "metadata": {
    "executionInfo": {
     "elapsed": 6,
     "status": "ok",
     "timestamp": 1753771321826,
     "user": {
      "displayName": "ABCD",
      "userId": "12404135188052131939"
     },
     "user_tz": -330
    },
    "id": "9xoEzu6Htxm_"
   },
   "outputs": [],
   "source": []
  },
  {
   "cell_type": "code",
   "execution_count": 50,
   "metadata": {
    "executionInfo": {
     "elapsed": 5,
     "status": "ok",
     "timestamp": 1753771321826,
     "user": {
      "displayName": "ABCD",
      "userId": "12404135188052131939"
     },
     "user_tz": -330
    },
    "id": "prcpJ5VyL161"
   },
   "outputs": [],
   "source": [
    "# will check the speed of array and list"
   ]
  },
  {
   "cell_type": "code",
   "execution_count": 1,
   "metadata": {
    "colab": {
     "base_uri": "https://localhost:8080/"
    },
    "executionInfo": {
     "elapsed": 8892,
     "status": "ok",
     "timestamp": 1753771330713,
     "user": {
      "displayName": "ABCD",
      "userId": "12404135188052131939"
     },
     "user_tz": -330
    },
    "id": "_nUQDibRL2Ez",
    "outputId": "7f216d4d-f79e-453a-c928-b78e1d0008c9"
   },
   "outputs": [
    {
     "name": "stdout",
     "output_type": "stream",
     "text": [
      "482 μs ± 12.4 μs per loop (mean ± std. dev. of 7 runs, 1,000 loops each)\n"
     ]
    }
   ],
   "source": [
    "x=range(10000)\n",
    "%timeit [ i**2 for i in x ]"
   ]
  },
  {
   "cell_type": "code",
   "execution_count": 5,
   "metadata": {
    "executionInfo": {
     "elapsed": 7,
     "status": "ok",
     "timestamp": 1753771330713,
     "user": {
      "displayName": "ABCD",
      "userId": "12404135188052131939"
     },
     "user_tz": -330
    },
    "id": "TxlA7EhIL2HO"
   },
   "outputs": [],
   "source": [
    "import numpy as np\n"
   ]
  },
  {
   "cell_type": "code",
   "execution_count": 53,
   "metadata": {
    "colab": {
     "base_uri": "https://localhost:8080/"
    },
    "executionInfo": {
     "elapsed": 6576,
     "status": "ok",
     "timestamp": 1753771337283,
     "user": {
      "displayName": "ABCD",
      "userId": "12404135188052131939"
     },
     "user_tz": -330
    },
    "id": "Xb0IDpslL2Jr",
    "outputId": "35fc539b-2c81-408c-8284-d287f9241615"
   },
   "outputs": [
    {
     "name": "stdout",
     "output_type": "stream",
     "text": [
      "7.95 µs ± 1.95 µs per loop (mean ± std. dev. of 7 runs, 100000 loops each)\n"
     ]
    }
   ],
   "source": [
    "arr=np.arange(10000)\n",
    "%timeit arr**2"
   ]
  },
  {
   "cell_type": "code",
   "execution_count": 54,
   "metadata": {
    "colab": {
     "base_uri": "https://localhost:8080/"
    },
    "collapsed": true,
    "executionInfo": {
     "elapsed": 35,
     "status": "ok",
     "timestamp": 1753771337283,
     "user": {
      "displayName": "ABCD",
      "userId": "12404135188052131939"
     },
     "user_tz": -330
    },
    "id": "LYoS1Q6pL2TV",
    "jupyter": {
     "outputs_hidden": true
    },
    "outputId": "d6c682d9-73b9-4f36-b46d-cfd0f166da73"
   },
   "outputs": [
    {
     "name": "stdout",
     "output_type": "stream",
     "text": [
      "23\n",
      "()\n",
      "<class 'numpy.ndarray'>\n",
      "0\n",
      "int64\n"
     ]
    }
   ],
   "source": [
    "# zero dimensions array\n",
    "arr=np.array(23)\n",
    "print(arr)\n",
    "\n",
    "print(arr.shape)\n",
    "print(type(arr))\n",
    "print(arr.ndim)\n",
    "print(arr.dtype)"
   ]
  },
  {
   "cell_type": "code",
   "execution_count": 55,
   "metadata": {
    "colab": {
     "base_uri": "https://localhost:8080/"
    },
    "collapsed": true,
    "executionInfo": {
     "elapsed": 33,
     "status": "ok",
     "timestamp": 1753771337283,
     "user": {
      "displayName": "ABCD",
      "userId": "12404135188052131939"
     },
     "user_tz": -330
    },
    "id": "ndr3s1fAOlT1",
    "jupyter": {
     "outputs_hidden": true
    },
    "outputId": "c92d2ff5-a954-43ab-ded9-ce85a3749f5b"
   },
   "outputs": [
    {
     "name": "stdout",
     "output_type": "stream",
     "text": [
      "[1 2 3 4 5]\n",
      "(5,)\n",
      "<class 'numpy.ndarray'>\n",
      "1\n",
      "int64\n"
     ]
    }
   ],
   "source": [
    "# One dimension array\n",
    "\n",
    "arr=np.array([1,2,3,4,5])\n",
    "\n",
    "print(arr)\n",
    "print(arr.shape)\n",
    "print(type(arr))\n",
    "print(arr.ndim)\n",
    "print(arr.dtype)"
   ]
  },
  {
   "cell_type": "code",
   "execution_count": 56,
   "metadata": {
    "colab": {
     "base_uri": "https://localhost:8080/"
    },
    "collapsed": true,
    "executionInfo": {
     "elapsed": 33,
     "status": "ok",
     "timestamp": 1753771337284,
     "user": {
      "displayName": "ABCD",
      "userId": "12404135188052131939"
     },
     "user_tz": -330
    },
    "id": "-imPqjGfRm05",
    "jupyter": {
     "outputs_hidden": true
    },
    "outputId": "804fc88c-01bd-4adf-ac5a-55d6c7440a4b"
   },
   "outputs": [
    {
     "name": "stdout",
     "output_type": "stream",
     "text": [
      "[[1 2 3 4]\n",
      " [6 7 8 9]]\n",
      "(2, 4)\n",
      "<class 'numpy.ndarray'>\n",
      "2\n",
      "int64\n"
     ]
    }
   ],
   "source": [
    "# two D arrays\n",
    "\n",
    "arr=np.array([[1,2,3,4],[6,7,8,9]])\n",
    "print(arr)\n",
    "print(arr.shape)\n",
    "print(type(arr))\n",
    "print(arr.ndim)\n",
    "print(arr.dtype)"
   ]
  },
  {
   "cell_type": "code",
   "execution_count": 57,
   "metadata": {
    "colab": {
     "base_uri": "https://localhost:8080/"
    },
    "executionInfo": {
     "elapsed": 31,
     "status": "ok",
     "timestamp": 1753771337284,
     "user": {
      "displayName": "ABCD",
      "userId": "12404135188052131939"
     },
     "user_tz": -330
    },
    "id": "PPImCqh7OlWu",
    "outputId": "a5a36953-2312-478e-b8a7-5292f8158f35"
   },
   "outputs": [
    {
     "data": {
      "text/plain": [
       "5"
      ]
     },
     "execution_count": 57,
     "metadata": {},
     "output_type": "execute_result"
    }
   ],
   "source": [
    "# create 2D array of any interger elements of shape:\n",
    "3*5\n",
    "5*3\n",
    "5*1"
   ]
  },
  {
   "cell_type": "code",
   "execution_count": 58,
   "metadata": {
    "colab": {
     "base_uri": "https://localhost:8080/"
    },
    "collapsed": true,
    "executionInfo": {
     "elapsed": 29,
     "status": "ok",
     "timestamp": 1753771337284,
     "user": {
      "displayName": "ABCD",
      "userId": "12404135188052131939"
     },
     "user_tz": -330
    },
    "id": "gJrk4avkOlbc",
    "jupyter": {
     "outputs_hidden": true
    },
    "outputId": "6e5a9d4a-fe99-46c9-e310-6e085d168ecf"
   },
   "outputs": [
    {
     "name": "stdout",
     "output_type": "stream",
     "text": [
      "[[ 1  2  3  4  5]\n",
      " [ 6  7  8  9  9]\n",
      " [10 11 12 13 14]]\n",
      "(3, 5)\n",
      "<class 'numpy.ndarray'>\n",
      "2\n",
      "int64\n"
     ]
    }
   ],
   "source": [
    "arr=np.array([[1,2,3,4,5],[6,7,8,9,9],[10,11,12,13,14]])\n",
    "print(arr)\n",
    "print(arr.shape)\n",
    "print(type(arr))\n",
    "print(arr.ndim)\n",
    "print(arr.dtype)"
   ]
  },
  {
   "cell_type": "code",
   "execution_count": 59,
   "metadata": {
    "colab": {
     "base_uri": "https://localhost:8080/"
    },
    "executionInfo": {
     "elapsed": 28,
     "status": "ok",
     "timestamp": 1753771337284,
     "user": {
      "displayName": "ABCD",
      "userId": "12404135188052131939"
     },
     "user_tz": -330
    },
    "id": "UVHkqAvYOleV",
    "outputId": "6f95b6ca-2fe4-47f3-939b-b65d8362d512"
   },
   "outputs": [
    {
     "name": "stdout",
     "output_type": "stream",
     "text": [
      "[[ 1  2  3]\n",
      " [ 6  7  8]\n",
      " [10 11 12]\n",
      " [ 1  2  3]\n",
      " [ 4  5  6]]\n",
      "(5, 3)\n",
      "<class 'numpy.ndarray'>\n",
      "2\n",
      "int64\n"
     ]
    }
   ],
   "source": [
    "arr=np.array([[1,2,3],[6,7,8,],[10,11,12],[1,2,3],[4,5,6]])\n",
    "print(arr)\n",
    "print(arr.shape)\n",
    "print(type(arr))\n",
    "print(arr.ndim)\n",
    "print(arr.dtype)"
   ]
  },
  {
   "cell_type": "code",
   "execution_count": 60,
   "metadata": {
    "colab": {
     "base_uri": "https://localhost:8080/"
    },
    "executionInfo": {
     "elapsed": 27,
     "status": "ok",
     "timestamp": 1753771337284,
     "user": {
      "displayName": "ABCD",
      "userId": "12404135188052131939"
     },
     "user_tz": -330
    },
    "id": "b7unuKTbVmEs",
    "outputId": "ec3ab860-11e0-45d7-e97b-24d653f3d439"
   },
   "outputs": [
    {
     "name": "stdout",
     "output_type": "stream",
     "text": [
      "[[ 1]\n",
      " [ 6]\n",
      " [10]\n",
      " [ 1]\n",
      " [ 4]]\n",
      "(5, 1)\n",
      "<class 'numpy.ndarray'>\n",
      "2\n",
      "int64\n"
     ]
    }
   ],
   "source": [
    "arr=np.array([[1],[6],[10],[1],[4]])\n",
    "print(arr)\n",
    "print(arr.shape)\n",
    "print(type(arr))\n",
    "print(arr.ndim)\n",
    "print(arr.dtype)"
   ]
  },
  {
   "cell_type": "code",
   "execution_count": 61,
   "metadata": {
    "colab": {
     "base_uri": "https://localhost:8080/"
    },
    "collapsed": true,
    "executionInfo": {
     "elapsed": 26,
     "status": "ok",
     "timestamp": 1753771337284,
     "user": {
      "displayName": "ABCD",
      "userId": "12404135188052131939"
     },
     "user_tz": -330
    },
    "id": "rsyIVRFRVmI6",
    "jupyter": {
     "outputs_hidden": true
    },
    "outputId": "3b2d898e-dfdd-47c1-99da-13d754941d89"
   },
   "outputs": [
    {
     "name": "stdout",
     "output_type": "stream",
     "text": [
      "[[[1 2 3]\n",
      "  [3 4 5]]\n",
      "\n",
      " [[1 2 3]\n",
      "  [3 4 5]]\n",
      "\n",
      " [[1 2 3]\n",
      "  [3 4 5]]]\n",
      "(3, 2, 3)\n",
      "<class 'numpy.ndarray'>\n",
      "3\n"
     ]
    }
   ],
   "source": [
    "# 3D array\n",
    "arr=np.array([[[1,2,3],\n",
    "              [3,4,5]],\n",
    "\n",
    "              [[1,2,3],\n",
    "              [3,4,5]],\n",
    "\n",
    "              [[1,2,3],\n",
    "              [3,4,5]]]\n",
    "             )\n",
    "print(arr)\n",
    "print(arr.shape)\n",
    "print(type(arr))\n",
    "print(arr.ndim)\n"
   ]
  },
  {
   "cell_type": "code",
   "execution_count": 62,
   "metadata": {
    "colab": {
     "base_uri": "https://localhost:8080/"
    },
    "executionInfo": {
     "elapsed": 25,
     "status": "ok",
     "timestamp": 1753771337284,
     "user": {
      "displayName": "ABCD",
      "userId": "12404135188052131939"
     },
     "user_tz": -330
    },
    "id": "gNRoRHu8VmMD",
    "outputId": "e2221b9e-3195-4ff5-f714-0f629b3ef278"
   },
   "outputs": [
    {
     "name": "stdout",
     "output_type": "stream",
     "text": [
      "[[[[[1 2 3 4 5]]]]]\n",
      "5\n"
     ]
    }
   ],
   "source": [
    "# n dimensions\n",
    "\n",
    "arr=np.array([1,2,3,4,5],ndmin=5)\n",
    "print(arr)\n",
    "print(arr.ndim)"
   ]
  },
  {
   "cell_type": "code",
   "execution_count": 63,
   "metadata": {
    "colab": {
     "base_uri": "https://localhost:8080/"
    },
    "executionInfo": {
     "elapsed": 24,
     "status": "ok",
     "timestamp": 1753771337284,
     "user": {
      "displayName": "ABCD",
      "userId": "12404135188052131939"
     },
     "user_tz": -330
    },
    "id": "RtjjXpa3VmRS",
    "outputId": "f365e950-3150-4da2-b2a9-e703e0bb3d9f"
   },
   "outputs": [
    {
     "name": "stdout",
     "output_type": "stream",
     "text": [
      "[1 2 3 4 5]\n",
      "1\n",
      "1\n",
      "[2 3]\n",
      "[5 4 3 2 1]\n"
     ]
    }
   ],
   "source": [
    "# Slicing\n",
    "arr=np.array([1,2,3,4,5])\n",
    "print(arr)\n",
    "print(arr.ndim)\n",
    "print(arr[0])\n",
    "print(arr[1:3])\n",
    "print(arr[::-1])"
   ]
  },
  {
   "cell_type": "code",
   "execution_count": 6,
   "metadata": {
    "colab": {
     "base_uri": "https://localhost:8080/"
    },
    "executionInfo": {
     "elapsed": 24,
     "status": "ok",
     "timestamp": 1753771337284,
     "user": {
      "displayName": "ABCD",
      "userId": "12404135188052131939"
     },
     "user_tz": -330
    },
    "id": "i5QUc1NQacF8",
    "outputId": "c5ff4fe4-e353-4c27-c193-992d03a43dfa"
   },
   "outputs": [
    {
     "name": "stdout",
     "output_type": "stream",
     "text": [
      "------------\n",
      "[1 2 3 4]\n",
      "[1 2]\n",
      "[6 7]\n",
      "[[1 2]\n",
      " [6 7]]\n"
     ]
    }
   ],
   "source": [
    "arr=np.array([[1,2,3,4],[6,7,8,9]])\n",
    "\n",
    "print(\"------------\")\n",
    "print(arr[0])\n",
    "\n",
    "print(arr[0][0:2])\n",
    "print(arr[1][0:2])\n",
    "print(arr[0:2,0:2])"
   ]
  },
  {
   "cell_type": "code",
   "execution_count": 65,
   "metadata": {
    "colab": {
     "base_uri": "https://localhost:8080/"
    },
    "collapsed": true,
    "executionInfo": {
     "elapsed": 23,
     "status": "ok",
     "timestamp": 1753771337284,
     "user": {
      "displayName": "ABCD",
      "userId": "12404135188052131939"
     },
     "user_tz": -330
    },
    "id": "QFDXOOTcacIq",
    "jupyter": {
     "outputs_hidden": true
    },
    "outputId": "416e7678-dbf5-4d72-e8fc-10e9c25b515d"
   },
   "outputs": [
    {
     "name": "stdout",
     "output_type": "stream",
     "text": [
      "[2 3]\n",
      "[5 6]\n",
      "[[2 3]\n",
      " [5 6]]\n",
      "[[1 2 3]\n",
      " [7 8 9]]\n"
     ]
    }
   ],
   "source": [
    "arr=np.array([[1,2,3],\n",
    "              [4,5,6],\n",
    "              [7,8,9]])\n",
    "# fetch 2 3\n",
    "#       5 6\n",
    "print(arr[0][1:3])\n",
    "print(arr[1][1:3])\n",
    "print(arr[0:2,1:3])\n",
    "print(arr[0:3:2,0:3])"
   ]
  },
  {
   "cell_type": "code",
   "execution_count": 66,
   "metadata": {
    "colab": {
     "base_uri": "https://localhost:8080/"
    },
    "collapsed": true,
    "executionInfo": {
     "elapsed": 22,
     "status": "ok",
     "timestamp": 1753771337284,
     "user": {
      "displayName": "ABCD",
      "userId": "12404135188052131939"
     },
     "user_tz": -330
    },
    "id": "iehCO1NwacLK",
    "jupyter": {
     "outputs_hidden": true
    },
    "outputId": "67a0a168-0c52-41f6-bb0c-f84105437b4f"
   },
   "outputs": [
    {
     "name": "stdout",
     "output_type": "stream",
     "text": [
      "[[1 2 3]\n",
      " [7 8 9]]\n",
      "[[1 3]\n",
      " [7 9]]\n",
      "---------------\n",
      "[[1 2 3]\n",
      " [7 8 9]]\n",
      "[[1 3]\n",
      " [7 9]]\n"
     ]
    }
   ],
   "source": [
    "arr=np.array([[1,2,3],\n",
    "              [4,5,6],\n",
    "              [7,8,9]])\n",
    "\n",
    "\n",
    "print(arr[0:3:2,0:3])\n",
    "print(arr[0:3:2,0:3:2])\n",
    "print(\"---------------\")\n",
    "print(arr[::2])\n",
    "print(arr[::2,::2])"
   ]
  },
  {
   "cell_type": "code",
   "execution_count": 67,
   "metadata": {
    "executionInfo": {
     "elapsed": 21,
     "status": "ok",
     "timestamp": 1753771337284,
     "user": {
      "displayName": "ABCD",
      "userId": "12404135188052131939"
     },
     "user_tz": -330
    },
    "id": "zmFkm614tzvv"
   },
   "outputs": [],
   "source": [
    "# 3D array"
   ]
  },
  {
   "cell_type": "code",
   "execution_count": 68,
   "metadata": {
    "colab": {
     "base_uri": "https://localhost:8080/"
    },
    "executionInfo": {
     "elapsed": 21,
     "status": "ok",
     "timestamp": 1753771337284,
     "user": {
      "displayName": "ABCD",
      "userId": "12404135188052131939"
     },
     "user_tz": -330
    },
    "id": "3RpcCUcStz84",
    "outputId": "4b280a02-4b4b-49f8-a8f8-827a43a286c3"
   },
   "outputs": [
    {
     "name": "stdout",
     "output_type": "stream",
     "text": [
      "[[1 2 3]\n",
      " [3 4 5]\n",
      " [8 7 6]]\n",
      "[1 2 3]\n",
      "[[1 2 3]\n",
      " [3 4 5]]\n"
     ]
    }
   ],
   "source": [
    "arr=np.array([[[1,2,3],\n",
    "              [3,4,5],\n",
    "               [6,7,8]],\n",
    "\n",
    "              [[1,2,3],\n",
    "              [3,4,5],\n",
    "               [3,9,8]],\n",
    "\n",
    "              [[1,2,3],\n",
    "              [3,4,5],\n",
    "               [8,7,6]]]\n",
    "             )\n",
    "print(arr[2])\n",
    "print(arr[0][0])\n",
    "print(arr[0][0:2])"
   ]
  },
  {
   "cell_type": "code",
   "execution_count": 69,
   "metadata": {
    "colab": {
     "base_uri": "https://localhost:8080/"
    },
    "executionInfo": {
     "elapsed": 20,
     "status": "ok",
     "timestamp": 1753771337284,
     "user": {
      "displayName": "ABCD",
      "userId": "12404135188052131939"
     },
     "user_tz": -330
    },
    "id": "H7zRhOg9t0CR",
    "outputId": "72008f6e-773c-4ddc-d6d9-64d813520f52"
   },
   "outputs": [
    {
     "name": "stdout",
     "output_type": "stream",
     "text": [
      "[[1 2 3]\n",
      " [3 4 5]]\n"
     ]
    }
   ],
   "source": [
    "print(arr[0][0:2])"
   ]
  },
  {
   "cell_type": "code",
   "execution_count": 70,
   "metadata": {
    "colab": {
     "base_uri": "https://localhost:8080/"
    },
    "executionInfo": {
     "elapsed": 19,
     "status": "ok",
     "timestamp": 1753771337284,
     "user": {
      "displayName": "ABCD",
      "userId": "12404135188052131939"
     },
     "user_tz": -330
    },
    "id": "FRmGCH-ot0Fq",
    "outputId": "68d4d7b6-1ec4-4925-d226-21650ec05ada"
   },
   "outputs": [
    {
     "name": "stdout",
     "output_type": "stream",
     "text": [
      "[[1 2 3]\n",
      " [3 4 5]]\n"
     ]
    }
   ],
   "source": [
    "print(arr[1][0:2])"
   ]
  },
  {
   "cell_type": "code",
   "execution_count": 71,
   "metadata": {
    "colab": {
     "base_uri": "https://localhost:8080/"
    },
    "executionInfo": {
     "elapsed": 18,
     "status": "ok",
     "timestamp": 1753771337284,
     "user": {
      "displayName": "ABCD",
      "userId": "12404135188052131939"
     },
     "user_tz": -330
    },
    "id": "Mh9CYQxrt0NE",
    "outputId": "a58b83c9-ef06-4b27-8e33-fb5cb07de08e"
   },
   "outputs": [
    {
     "name": "stdout",
     "output_type": "stream",
     "text": [
      "[[3 4 5]\n",
      " [6 7 8]]\n"
     ]
    }
   ],
   "source": [
    "print(arr[0][1:3])"
   ]
  },
  {
   "cell_type": "code",
   "execution_count": 72,
   "metadata": {
    "colab": {
     "base_uri": "https://localhost:8080/"
    },
    "executionInfo": {
     "elapsed": 17,
     "status": "ok",
     "timestamp": 1753771337284,
     "user": {
      "displayName": "ABCD",
      "userId": "12404135188052131939"
     },
     "user_tz": -330
    },
    "id": "Wy5p7HAfy-qM",
    "outputId": "dcf2b5a0-f288-45e0-904a-6b0253b7ff4b"
   },
   "outputs": [
    {
     "name": "stdout",
     "output_type": "stream",
     "text": [
      "(2, 2, 3)\n"
     ]
    }
   ],
   "source": [
    "arr=np.array([\n",
    "    [[1,2,3],\n",
    "     [4,5,6]],\n",
    "    [[7,8,9],\n",
    "     [10,11,12]]\n",
    "])\n",
    "print(arr.shape)"
   ]
  },
  {
   "cell_type": "code",
   "execution_count": 73,
   "metadata": {
    "colab": {
     "base_uri": "https://localhost:8080/"
    },
    "executionInfo": {
     "elapsed": 16,
     "status": "ok",
     "timestamp": 1753771337284,
     "user": {
      "displayName": "ABCD",
      "userId": "12404135188052131939"
     },
     "user_tz": -330
    },
    "id": "0R9VHvpfy-5I",
    "outputId": "30361a22-815d-4198-cbd3-77768daa10f6"
   },
   "outputs": [
    {
     "name": "stdout",
     "output_type": "stream",
     "text": [
      "3\n",
      "3\n"
     ]
    }
   ],
   "source": [
    "# you need to featch 3\n",
    "print(arr[0][0][2])\n",
    "print(arr[0,0,2])"
   ]
  },
  {
   "cell_type": "code",
   "execution_count": 74,
   "metadata": {
    "colab": {
     "base_uri": "https://localhost:8080/"
    },
    "executionInfo": {
     "elapsed": 15,
     "status": "ok",
     "timestamp": 1753771337284,
     "user": {
      "displayName": "ABCD",
      "userId": "12404135188052131939"
     },
     "user_tz": -330
    },
    "id": "WowrC-4my-7t",
    "outputId": "3d2dbe03-48db-41ac-ddb8-970dc40e80b3"
   },
   "outputs": [
    {
     "name": "stdout",
     "output_type": "stream",
     "text": [
      "[[ 1  4]\n",
      " [ 7 10]]\n",
      "[[ 3  6]\n",
      " [ 9 12]]\n",
      "[[ 2  5]\n",
      " [ 8 11]]\n"
     ]
    }
   ],
   "source": [
    "print(arr[:,:,0])\n",
    "print(arr[:,:,-1])\n",
    "print(arr[:,:,1])"
   ]
  },
  {
   "cell_type": "code",
   "execution_count": 75,
   "metadata": {
    "colab": {
     "base_uri": "https://localhost:8080/"
    },
    "executionInfo": {
     "elapsed": 13,
     "status": "ok",
     "timestamp": 1753771337284,
     "user": {
      "displayName": "ABCD",
      "userId": "12404135188052131939"
     },
     "user_tz": -330
    },
    "id": "2vV2lqvqy--k",
    "outputId": "336c959e-45cc-4f25-c7b0-7de72ff842fb"
   },
   "outputs": [
    {
     "name": "stdout",
     "output_type": "stream",
     "text": [
      "[[1 2 3]\n",
      " [5 6 7]\n",
      " [8 9 6]]\n"
     ]
    }
   ],
   "source": [
    "arr=np.array([\n",
    "\n",
    "              [[1,2,3],\n",
    "              [4,5,6]],\n",
    "\n",
    "              [[5,6,7],\n",
    "              [3,2,1]],\n",
    "\n",
    "              [[8,9,6],\n",
    "              [2,3,4]],\n",
    "\n",
    "              ])\n",
    "print(arr[:,0,:])"
   ]
  },
  {
   "cell_type": "code",
   "execution_count": 76,
   "metadata": {
    "colab": {
     "base_uri": "https://localhost:8080/"
    },
    "executionInfo": {
     "elapsed": 12,
     "status": "ok",
     "timestamp": 1753771337284,
     "user": {
      "displayName": "ABCD",
      "userId": "12404135188052131939"
     },
     "user_tz": -330
    },
    "id": "vqIZa7jyy_Am",
    "outputId": "7e8f6c55-b044-4d98-daf7-3ad1bbeaae7c"
   },
   "outputs": [
    {
     "name": "stdout",
     "output_type": "stream",
     "text": [
      "[6 1 4]\n"
     ]
    }
   ],
   "source": [
    "print(arr[:,1,-1])"
   ]
  },
  {
   "cell_type": "code",
   "execution_count": 77,
   "metadata": {
    "colab": {
     "base_uri": "https://localhost:8080/"
    },
    "executionInfo": {
     "elapsed": 11,
     "status": "ok",
     "timestamp": 1753771337284,
     "user": {
      "displayName": "ABCD",
      "userId": "12404135188052131939"
     },
     "user_tz": -330
    },
    "id": "JmMzSrtey_Ct",
    "outputId": "cb4e1a24-1e90-485d-8852-ae172a3917a4"
   },
   "outputs": [
    {
     "name": "stdout",
     "output_type": "stream",
     "text": [
      "[[6 7]\n",
      " [2 1]]\n",
      "[[1 4]\n",
      " [5 3]\n",
      " [8 2]]\n"
     ]
    }
   ],
   "source": [
    "print(arr[1,:,1:])\n",
    "print(arr[:,:,0])"
   ]
  },
  {
   "cell_type": "code",
   "execution_count": 77,
   "metadata": {
    "executionInfo": {
     "elapsed": 10,
     "status": "ok",
     "timestamp": 1753771337284,
     "user": {
      "displayName": "ABCD",
      "userId": "12404135188052131939"
     },
     "user_tz": -330
    },
    "id": "AvR6Eqe1y_GF"
   },
   "outputs": [],
   "source": []
  },
  {
   "cell_type": "markdown",
   "metadata": {
    "id": "kNot2SSI6qHT"
   },
   "source": [
    "**Functions**\n"
   ]
  },
  {
   "cell_type": "code",
   "execution_count": 78,
   "metadata": {
    "colab": {
     "base_uri": "https://localhost:8080/"
    },
    "executionInfo": {
     "elapsed": 424,
     "status": "ok",
     "timestamp": 1753771419928,
     "user": {
      "displayName": "ABCD",
      "userId": "12404135188052131939"
     },
     "user_tz": -330
    },
    "id": "621R9JgZ6F4g",
    "outputId": "0f064626-2925-4ca0-eae4-8c0346e9daab"
   },
   "outputs": [
    {
     "name": "stdout",
     "output_type": "stream",
     "text": [
      "(5,)\n",
      "1\n",
      "[11 23 54 67 67]\n"
     ]
    }
   ],
   "source": [
    "arr=np.array([67,54,23,11,67])\n",
    "print(arr.shape)\n",
    "print(arr.ndim)\n",
    "print(np.sort(arr))"
   ]
  },
  {
   "cell_type": "code",
   "execution_count": 77,
   "metadata": {
    "executionInfo": {
     "elapsed": 10,
     "status": "ok",
     "timestamp": 1753771337284,
     "user": {
      "displayName": "ABCD",
      "userId": "12404135188052131939"
     },
     "user_tz": -330
    },
    "id": "BjPm2V-86Fnx"
   },
   "outputs": [],
   "source": []
  },
  {
   "cell_type": "markdown",
   "metadata": {
    "id": "MyGDrbQc7FLV"
   },
   "source": [
    "**Addition of 2 array**"
   ]
  },
  {
   "cell_type": "code",
   "execution_count": 81,
   "metadata": {
    "colab": {
     "base_uri": "https://localhost:8080/"
    },
    "executionInfo": {
     "elapsed": 748,
     "status": "ok",
     "timestamp": 1753771741739,
     "user": {
      "displayName": "ABCD",
      "userId": "12404135188052131939"
     },
     "user_tz": -330
    },
    "id": "YFSG1XgC6FXv",
    "outputId": "0e0ddf4a-1955-49b3-e4b4-61e8aab3ecf8"
   },
   "outputs": [
    {
     "name": "stdout",
     "output_type": "stream",
     "text": [
      "[ 8 10 12]\n",
      "[-6 -6 -6]\n",
      "[ 7 16 27]\n",
      "[0.14285714 0.25       0.33333333]\n"
     ]
    }
   ],
   "source": [
    "arr1=np.array([1,2,3])\n",
    "arr2=np.array([7,8,9])\n",
    "res1=np.add(arr1,arr2)\n",
    "res2=np.subtract(arr1,arr2)\n",
    "res3=np.multiply(arr1,arr2)\n",
    "res4=np.divide(arr1,arr2)\n",
    "print(res1)\n",
    "print(res2)\n",
    "print(res3)\n",
    "print(res4)"
   ]
  },
  {
   "cell_type": "code",
   "execution_count": null,
   "metadata": {
    "id": "lrWonLw07mF-"
   },
   "outputs": [],
   "source": []
  },
  {
   "cell_type": "markdown",
   "metadata": {
    "id": "PIgU8mhO8taY"
   },
   "source": [
    "**Fetch maximum element**"
   ]
  },
  {
   "cell_type": "code",
   "execution_count": 82,
   "metadata": {
    "colab": {
     "base_uri": "https://localhost:8080/"
    },
    "executionInfo": {
     "elapsed": 443,
     "status": "ok",
     "timestamp": 1753771942205,
     "user": {
      "displayName": "ABCD",
      "userId": "12404135188052131939"
     },
     "user_tz": -330
    },
    "id": "Sh27Cxaf7mTY",
    "outputId": "ccb9a6a1-1b65-4b3a-bb20-529e91ca3d09"
   },
   "outputs": [
    {
     "name": "stdout",
     "output_type": "stream",
     "text": [
      "3\n"
     ]
    }
   ],
   "source": [
    "arr=np.array([1,2,3])\n",
    "print(np.max(arr))"
   ]
  },
  {
   "cell_type": "code",
   "execution_count": null,
   "metadata": {
    "id": "ADwtUMIJ7mWE"
   },
   "outputs": [],
   "source": []
  },
  {
   "cell_type": "markdown",
   "metadata": {
    "id": "JBVDny8Z9DOL"
   },
   "source": [
    "**Fetch minimum**"
   ]
  },
  {
   "cell_type": "code",
   "execution_count": 83,
   "metadata": {
    "colab": {
     "base_uri": "https://localhost:8080/"
    },
    "executionInfo": {
     "elapsed": 493,
     "status": "ok",
     "timestamp": 1753772020058,
     "user": {
      "displayName": "ABCD",
      "userId": "12404135188052131939"
     },
     "user_tz": -330
    },
    "id": "_GxlSZLi7mYp",
    "outputId": "3254ce23-77c7-4061-9d5e-ed07151b14f6"
   },
   "outputs": [
    {
     "name": "stdout",
     "output_type": "stream",
     "text": [
      "1\n"
     ]
    }
   ],
   "source": [
    "print(np.min(arr))"
   ]
  },
  {
   "cell_type": "code",
   "execution_count": null,
   "metadata": {
    "id": "0ASxeefr7mb9"
   },
   "outputs": [],
   "source": []
  },
  {
   "cell_type": "markdown",
   "metadata": {
    "id": "V-ERryvx9kAz"
   },
   "source": [
    "**Zero function**"
   ]
  },
  {
   "cell_type": "code",
   "execution_count": 84,
   "metadata": {
    "colab": {
     "base_uri": "https://localhost:8080/"
    },
    "executionInfo": {
     "elapsed": 457,
     "status": "ok",
     "timestamp": 1753772203132,
     "user": {
      "displayName": "ABCD",
      "userId": "12404135188052131939"
     },
     "user_tz": -330
    },
    "id": "znugSkt49drE",
    "outputId": "02d58981-ec5d-4d8c-f6d6-78f15b97d39d"
   },
   "outputs": [
    {
     "name": "stdout",
     "output_type": "stream",
     "text": [
      "[0. 0. 0. 0. 0.]\n"
     ]
    }
   ],
   "source": [
    "arr=np.zeros([5] )\n",
    "# zeros function will filled with the zeros\n",
    "print(arr)"
   ]
  },
  {
   "cell_type": "code",
   "execution_count": 85,
   "metadata": {
    "colab": {
     "base_uri": "https://localhost:8080/"
    },
    "executionInfo": {
     "elapsed": 14,
     "status": "ok",
     "timestamp": 1753772239420,
     "user": {
      "displayName": "ABCD",
      "userId": "12404135188052131939"
     },
     "user_tz": -330
    },
    "id": "rwcjRdnl9dxY",
    "outputId": "7c993dee-9523-4165-8743-1f1d75de491e"
   },
   "outputs": [
    {
     "name": "stdout",
     "output_type": "stream",
     "text": [
      "[[0. 0. 0. 0. 0.]\n",
      " [0. 0. 0. 0. 0.]]\n"
     ]
    }
   ],
   "source": [
    "arr=np.zeros([2,5]\n",
    "             )\n",
    "print(arr)"
   ]
  },
  {
   "cell_type": "code",
   "execution_count": 88,
   "metadata": {
    "colab": {
     "base_uri": "https://localhost:8080/"
    },
    "executionInfo": {
     "elapsed": 9,
     "status": "ok",
     "timestamp": 1753772314345,
     "user": {
      "displayName": "ABCD",
      "userId": "12404135188052131939"
     },
     "user_tz": -330
    },
    "id": "wVQT3cOf9eEh",
    "outputId": "89a653bf-432a-4198-cba8-8eee69d922b6"
   },
   "outputs": [
    {
     "name": "stdout",
     "output_type": "stream",
     "text": [
      "[[[0. 0. 0. 0.]\n",
      "  [0. 0. 0. 0.]]\n",
      "\n",
      " [[0. 0. 0. 0.]\n",
      "  [0. 0. 0. 0.]]]\n"
     ]
    }
   ],
   "source": [
    "arr=np.zeros([2,2,4])\n",
    "print(arr)"
   ]
  },
  {
   "cell_type": "code",
   "execution_count": null,
   "metadata": {
    "id": "38EkchGz-fBL"
   },
   "outputs": [],
   "source": []
  },
  {
   "cell_type": "markdown",
   "metadata": {
    "id": "CO44yXKa-mso"
   },
   "source": [
    "**Ones function**"
   ]
  },
  {
   "cell_type": "code",
   "execution_count": 89,
   "metadata": {
    "colab": {
     "base_uri": "https://localhost:8080/"
    },
    "executionInfo": {
     "elapsed": 458,
     "status": "ok",
     "timestamp": 1753772443462,
     "user": {
      "displayName": "ABCD",
      "userId": "12404135188052131939"
     },
     "user_tz": -330
    },
    "id": "EFtWaTZG-fL_",
    "outputId": "71e9b704-de4a-414f-a168-968ac56107af"
   },
   "outputs": [
    {
     "name": "stdout",
     "output_type": "stream",
     "text": [
      "[[1. 1. 1. 1. 1. 1.]\n",
      " [1. 1. 1. 1. 1. 1.]\n",
      " [1. 1. 1. 1. 1. 1.]\n",
      " [1. 1. 1. 1. 1. 1.]\n",
      " [1. 1. 1. 1. 1. 1.]]\n"
     ]
    }
   ],
   "source": [
    "arr=np.ones([5,6])\n",
    "print(arr)"
   ]
  },
  {
   "cell_type": "code",
   "execution_count": null,
   "metadata": {
    "id": "QQoN28UM-fOu"
   },
   "outputs": [],
   "source": []
  },
  {
   "cell_type": "markdown",
   "metadata": {
    "id": "oUUIvafS_H42"
   },
   "source": [
    "**Eye Function**"
   ]
  },
  {
   "cell_type": "code",
   "execution_count": 90,
   "metadata": {
    "colab": {
     "base_uri": "https://localhost:8080/"
    },
    "executionInfo": {
     "elapsed": 9,
     "status": "ok",
     "timestamp": 1753772545072,
     "user": {
      "displayName": "ABCD",
      "userId": "12404135188052131939"
     },
     "user_tz": -330
    },
    "id": "yRAdMJlm-fRp",
    "outputId": "dd7c48cd-bf21-4905-f2b1-8f427f752abe"
   },
   "outputs": [
    {
     "name": "stdout",
     "output_type": "stream",
     "text": [
      "[[1. 0. 0.]\n",
      " [0. 1. 0.]\n",
      " [0. 0. 1.]]\n"
     ]
    }
   ],
   "source": [
    "# number of rows will pass\n",
    "# create idinty martix all digonal is 1 and other will 0\n",
    "\n",
    "arr=np.eye(3)\n",
    "\n",
    "print(arr)"
   ]
  },
  {
   "cell_type": "code",
   "execution_count": null,
   "metadata": {
    "id": "NioX6iVr-fVC"
   },
   "outputs": [],
   "source": []
  },
  {
   "cell_type": "markdown",
   "metadata": {
    "id": "IGSZF3P6_2-m"
   },
   "source": [
    "**linespace**"
   ]
  },
  {
   "cell_type": "code",
   "execution_count": 91,
   "metadata": {
    "colab": {
     "base_uri": "https://localhost:8080/"
    },
    "executionInfo": {
     "elapsed": 452,
     "status": "ok",
     "timestamp": 1753772822690,
     "user": {
      "displayName": "ABCD",
      "userId": "12404135188052131939"
     },
     "user_tz": -330
    },
    "id": "dLyyIzLC_2OI",
    "outputId": "0973240d-8861-4073-c69e-42ba3beb5ed4"
   },
   "outputs": [
    {
     "name": "stdout",
     "output_type": "stream",
     "text": [
      "[ 1.          1.18367347  1.36734694  1.55102041  1.73469388  1.91836735\n",
      "  2.10204082  2.28571429  2.46938776  2.65306122  2.83673469  3.02040816\n",
      "  3.20408163  3.3877551   3.57142857  3.75510204  3.93877551  4.12244898\n",
      "  4.30612245  4.48979592  4.67346939  4.85714286  5.04081633  5.2244898\n",
      "  5.40816327  5.59183673  5.7755102   5.95918367  6.14285714  6.32653061\n",
      "  6.51020408  6.69387755  6.87755102  7.06122449  7.24489796  7.42857143\n",
      "  7.6122449   7.79591837  7.97959184  8.16326531  8.34693878  8.53061224\n",
      "  8.71428571  8.89795918  9.08163265  9.26530612  9.44897959  9.63265306\n",
      "  9.81632653 10.        ]\n"
     ]
    }
   ],
   "source": [
    "# it used to create equle sapce value between two values\n",
    "# there are three parametere [start ,stop,num ]\n",
    "arr=np.linspace(1,10)\n",
    "print(arr)"
   ]
  },
  {
   "cell_type": "code",
   "execution_count": 92,
   "metadata": {
    "colab": {
     "base_uri": "https://localhost:8080/"
    },
    "executionInfo": {
     "elapsed": 435,
     "status": "ok",
     "timestamp": 1753772860075,
     "user": {
      "displayName": "ABCD",
      "userId": "12404135188052131939"
     },
     "user_tz": -330
    },
    "id": "2BaKXS04_2Qv",
    "outputId": "f5c7a2c3-bea9-486a-cfe5-f1d869caa5d0"
   },
   "outputs": [
    {
     "name": "stdout",
     "output_type": "stream",
     "text": [
      "[ 1.          1.47368421  1.94736842  2.42105263  2.89473684  3.36842105\n",
      "  3.84210526  4.31578947  4.78947368  5.26315789  5.73684211  6.21052632\n",
      "  6.68421053  7.15789474  7.63157895  8.10526316  8.57894737  9.05263158\n",
      "  9.52631579 10.        ]\n"
     ]
    }
   ],
   "source": [
    "arr=np.linspace(1,10,20)\n",
    "print(arr)"
   ]
  },
  {
   "cell_type": "code",
   "execution_count": 7,
   "metadata": {
    "colab": {
     "base_uri": "https://localhost:8080/"
    },
    "executionInfo": {
     "elapsed": 419,
     "status": "ok",
     "timestamp": 1753772966902,
     "user": {
      "displayName": "ABCD",
      "userId": "12404135188052131939"
     },
     "user_tz": -330
    },
    "id": "JvfC8AVQ_2UI",
    "outputId": "e84064bc-82dc-4b3e-ace4-0989c41e09c7"
   },
   "outputs": [
    {
     "name": "stdout",
     "output_type": "stream",
     "text": [
      "[1.         1.21052632 1.42105263 1.63157895 1.84210526 2.05263158\n",
      " 2.26315789 2.47368421 2.68421053 2.89473684 3.10526316 3.31578947\n",
      " 3.52631579 3.73684211 3.94736842 4.15789474 4.36842105 4.57894737\n",
      " 4.78947368 5.        ]\n"
     ]
    }
   ],
   "source": [
    "arr=np.linspace(1,5,20)\n",
    "print(arr)"
   ]
  },
  {
   "cell_type": "markdown",
   "metadata": {
    "id": "kTL-WHBTA_W8"
   },
   "source": [
    "**Arange ()**"
   ]
  },
  {
   "cell_type": "code",
   "execution_count": 96,
   "metadata": {
    "colab": {
     "base_uri": "https://localhost:8080/"
    },
    "executionInfo": {
     "elapsed": 422,
     "status": "ok",
     "timestamp": 1753773118234,
     "user": {
      "displayName": "ABCD",
      "userId": "12404135188052131939"
     },
     "user_tz": -330
    },
    "id": "lAZF72RsBGtE",
    "outputId": "7820c928-cfe3-4308-b5e9-32c195ca3217"
   },
   "outputs": [
    {
     "name": "stdout",
     "output_type": "stream",
     "text": [
      "[ 1  3  5  7  9 11 13 15 17 19]\n"
     ]
    }
   ],
   "source": [
    "arr=np.arange(1,20,2)\n",
    "print(arr)"
   ]
  },
  {
   "cell_type": "code",
   "execution_count": 110,
   "metadata": {
    "colab": {
     "base_uri": "https://localhost:8080/"
    },
    "executionInfo": {
     "elapsed": 450,
     "status": "ok",
     "timestamp": 1753773479960,
     "user": {
      "displayName": "ABCD",
      "userId": "12404135188052131939"
     },
     "user_tz": -330
    },
    "id": "m5N6xIpiBG9V",
    "outputId": "8e5a07d1-3f45-49b8-9f77-8bddffa94ebb"
   },
   "outputs": [
    {
     "name": "stdout",
     "output_type": "stream",
     "text": [
      "[0 1 2 3 4]\n",
      "[2 5 8]\n",
      "[10  9  8  7  6  5  4  3  2  1]\n"
     ]
    }
   ],
   "source": [
    "# np.arange(5)---What does it give?\n",
    "arr=np.arange(5)\n",
    "print(arr)\n",
    "\n",
    "# np.arange(2, 11, 3)--Whats the output?\n",
    "arr=np.arange(2,11,3)\n",
    "print(arr)\n",
    "\n",
    "\n",
    "# Create numbers from 10 to 1 in reverse using arange().\n",
    "arr=np.arange(10,0,-1)\n",
    "print(arr)"
   ]
  },
  {
   "cell_type": "code",
   "execution_count": null,
   "metadata": {
    "id": "Eqz7LVGtBHAx"
   },
   "outputs": [],
   "source": []
  },
  {
   "cell_type": "markdown",
   "metadata": {
    "id": "1Frb3EQRC9J5"
   },
   "source": [
    "**Random** **module**"
   ]
  },
  {
   "cell_type": "code",
   "execution_count": null,
   "metadata": {
    "id": "79wE51AJDHk-"
   },
   "outputs": [],
   "source": [
    "import random\n"
   ]
  },
  {
   "cell_type": "code",
   "execution_count": 111,
   "metadata": {
    "colab": {
     "base_uri": "https://localhost:8080/"
    },
    "executionInfo": {
     "elapsed": 411,
     "status": "ok",
     "timestamp": 1753773664174,
     "user": {
      "displayName": "ABCD",
      "userId": "12404135188052131939"
     },
     "user_tz": -330
    },
    "id": "5yEbZeeBDHxg",
    "outputId": "02e14dde-3618-4a7d-9df2-cb7cfe28a559"
   },
   "outputs": [
    {
     "name": "stdout",
     "output_type": "stream",
     "text": [
      "[0.72951609 0.02318609 0.00107885 0.72134131]\n"
     ]
    }
   ],
   "source": [
    "#rand()\n",
    "# rand() function will return within 0 and 1 as per specific sized\n",
    "arr=np.random.rand(4)\n",
    "print(arr)"
   ]
  },
  {
   "cell_type": "code",
   "execution_count": 112,
   "metadata": {
    "colab": {
     "base_uri": "https://localhost:8080/"
    },
    "executionInfo": {
     "elapsed": 9,
     "status": "ok",
     "timestamp": 1753773691622,
     "user": {
      "displayName": "ABCD",
      "userId": "12404135188052131939"
     },
     "user_tz": -330
    },
    "id": "5Yqt5fSGDH07",
    "outputId": "23ac3d93-296a-42a5-f051-54aa5f24b20a"
   },
   "outputs": [
    {
     "name": "stdout",
     "output_type": "stream",
     "text": [
      "[[0.54897924 0.6385279 ]\n",
      " [0.10102819 0.02198523]\n",
      " [0.54884151 0.29016879]\n",
      " [0.81397977 0.30348003]]\n"
     ]
    }
   ],
   "source": [
    "arr=np.random.rand(4,2)\n",
    "print(arr)"
   ]
  },
  {
   "cell_type": "markdown",
   "metadata": {
    "id": "fubKn8UXEB3T"
   },
   "source": [
    "**3D array using rand function**"
   ]
  },
  {
   "cell_type": "code",
   "execution_count": 117,
   "metadata": {
    "colab": {
     "base_uri": "https://localhost:8080/"
    },
    "executionInfo": {
     "elapsed": 10,
     "status": "ok",
     "timestamp": 1753773885884,
     "user": {
      "displayName": "ABCD",
      "userId": "12404135188052131939"
     },
     "user_tz": -330
    },
    "id": "ViFB9hmgDybv",
    "outputId": "9ecc4a2c-c6af-4e02-b6ba-70d251904e65"
   },
   "outputs": [
    {
     "name": "stdout",
     "output_type": "stream",
     "text": [
      "[[[0.98653576 0.07796046]\n",
      "  [0.9182851  0.61887496]]\n",
      "\n",
      " [[0.13352185 0.44664127]\n",
      "  [0.73804262 0.95531574]]\n",
      "\n",
      " [[0.33206178 0.89689466]\n",
      "  [0.79924356 0.84178617]]]\n"
     ]
    }
   ],
   "source": [
    "arr=np.random.rand(3,3,2)\n",
    "print(arr)"
   ]
  },
  {
   "cell_type": "code",
   "execution_count": 123,
   "metadata": {
    "colab": {
     "base_uri": "https://localhost:8080/"
    },
    "executionInfo": {
     "elapsed": 496,
     "status": "ok",
     "timestamp": 1753774280861,
     "user": {
      "displayName": "ABCD",
      "userId": "12404135188052131939"
     },
     "user_tz": -330
    },
    "id": "sQC0F2tCDymg",
    "outputId": "9c98f137-a459-4e52-9492-7e5877376249"
   },
   "outputs": [
    {
     "name": "stdout",
     "output_type": "stream",
     "text": [
      "[[-1.65310156  0.75860267  1.50026249  0.15337555  0.24414022 -0.10895563]\n",
      " [ 1.79705969 -0.07773786  1.83563857  1.01514687 -0.28465562  0.45933532]]\n"
     ]
    }
   ],
   "source": [
    "#randn() negative value be aslo provide\n",
    "arr=np.random.randn(2,6)\n",
    "print(arr)"
   ]
  },
  {
   "cell_type": "code",
   "execution_count": 8,
   "metadata": {
    "id": "YpYuZQD4Dyp3"
   },
   "outputs": [
    {
     "name": "stdout",
     "output_type": "stream",
     "text": [
      "bhupendra\n"
     ]
    }
   ],
   "source": [
    "print(\"bhupendra\")"
   ]
  },
  {
   "cell_type": "code",
   "execution_count": null,
   "metadata": {},
   "outputs": [],
   "source": []
  },
  {
   "cell_type": "code",
   "execution_count": null,
   "metadata": {},
   "outputs": [],
   "source": []
  },
  {
   "cell_type": "code",
   "execution_count": null,
   "metadata": {},
   "outputs": [],
   "source": []
  }
 ],
 "metadata": {
  "colab": {
   "authorship_tag": "ABX9TyMzPPbhJVxfj65FuoC85Fx3",
   "provenance": []
  },
  "kernelspec": {
   "display_name": "Python [conda env:base] *",
   "language": "python",
   "name": "conda-base-py"
  },
  "language_info": {
   "codemirror_mode": {
    "name": "ipython",
    "version": 3
   },
   "file_extension": ".py",
   "mimetype": "text/x-python",
   "name": "python",
   "nbconvert_exporter": "python",
   "pygments_lexer": "ipython3",
   "version": "3.13.5"
  }
 },
 "nbformat": 4,
 "nbformat_minor": 4
}

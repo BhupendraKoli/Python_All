{
 "cells": [
  {
   "cell_type": "code",
   "execution_count": 1,
   "id": "7bfb9fee-31c3-47d1-97ae-0d08fecb1d16",
   "metadata": {},
   "outputs": [
    {
     "name": "stdout",
     "output_type": "stream",
     "text": [
      "1 2 3 4 5 6 7 8 9 10 \n",
      "\n"
     ]
    }
   ],
   "source": [
    "# 1. Print numbers from 1 to 10 using a while loop. \n",
    "i = 1\n",
    "while i <= 10:\n",
    "    print(i, end=' ')\n",
    "    i += 1\n",
    "print(\"\\n\")"
   ]
  },
  {
   "cell_type": "code",
   "execution_count": 2,
   "id": "953bc6df-a739-445f-8cbd-ae32a51056bc",
   "metadata": {},
   "outputs": [
    {
     "name": "stdout",
     "output_type": "stream",
     "text": [
      "2 4 6 8 10 12 14 16 18 20 \n",
      "\n"
     ]
    }
   ],
   "source": [
    "# 2. Print all even numbers between 1 and 20 using a while loop. \n",
    "i=2\n",
    "while i <=20 :\n",
    "    print(i,end=\" \")\n",
    "    i+=2\n",
    "print(\"\\n\") "
   ]
  },
  {
   "cell_type": "code",
   "execution_count": 4,
   "id": "a481add5-d2f7-43b3-aff6-849c8fcded1e",
   "metadata": {},
   "outputs": [
    {
     "name": "stdout",
     "output_type": "stream",
     "text": [
      "Sum is: 1275\n"
     ]
    }
   ],
   "source": [
    "# 3. Find the sum of numbers from 1 to 50 using a while loop. \n",
    "i = 1\n",
    "total = 0\n",
    "while i <= 50:\n",
    "    total += i\n",
    "    i += 1\n",
    "print(\"Sum is:\", total)"
   ]
  },
  {
   "cell_type": "code",
   "execution_count": 5,
   "id": "35204a11-3662-4fa7-8523-d0ce5af7c8b6",
   "metadata": {},
   "outputs": [
    {
     "name": "stdout",
     "output_type": "stream",
     "text": [
      "5 x 1 = 5\n",
      "5 x 2 = 10\n",
      "5 x 3 = 15\n",
      "5 x 4 = 20\n",
      "5 x 5 = 25\n",
      "5 x 6 = 30\n",
      "5 x 7 = 35\n",
      "5 x 8 = 40\n",
      "5 x 9 = 45\n",
      "5 x 10 = 50\n"
     ]
    }
   ],
   "source": [
    "# 4. Print the multiplication table of 5 using a while loop. \n",
    "i = 1\n",
    "while i <= 10:\n",
    "    print(f\"5 x {i} = {5 * i}\")\n",
    "    i += 1"
   ]
  },
  {
   "cell_type": "code",
   "execution_count": 6,
   "id": "de7e2bbe-8a1a-481f-9b08-6b2ac1484daf",
   "metadata": {},
   "outputs": [
    {
     "name": "stdout",
     "output_type": "stream",
     "text": [
      "yaj\n"
     ]
    }
   ],
   "source": [
    "# 5. Reverse a given string using a while loop.  \n",
    "a=\"jay\"\n",
    "res=\"\"\n",
    "index=len(a)-1\n",
    "while index >= 0:\n",
    "    res+=a[index]\n",
    "    index-=1\n",
    "print(res) "
   ]
  },
  {
   "cell_type": "code",
   "execution_count": 7,
   "id": "5f24c618-81a8-4e3d-a934-8bcb4ae8b92a",
   "metadata": {},
   "outputs": [
    {
     "name": "stdout",
     "output_type": "stream",
     "text": [
      "1 2 3 4 5 6 7 8 9 10 "
     ]
    }
   ],
   "source": [
    "# 6. Print the first 10 natural numbers using a for loop and range().  \n",
    "for i in range(1,11):\n",
    "    print(i,end=\" \")"
   ]
  },
  {
   "cell_type": "code",
   "execution_count": 8,
   "id": "2d729b7a-80b3-4353-aa3d-dbec112e75f1",
   "metadata": {},
   "outputs": [
    {
     "name": "stdout",
     "output_type": "stream",
     "text": [
      "1\n",
      "3\n",
      "5\n",
      "7\n",
      "9\n",
      "11\n",
      "13\n",
      "15\n",
      "\n",
      "\n"
     ]
    }
   ],
   "source": [
    "# 7. Print all odd numbers from 1 to 15 using a for loop and range(). \n",
    "for i in range(1,16,2):\n",
    "    print(i)\n",
    "print(\"\\n\")"
   ]
  },
  {
   "cell_type": "code",
   "execution_count": 10,
   "id": "1868c440-c314-45df-b01d-5b05a6540c03",
   "metadata": {},
   "outputs": [
    {
     "name": "stdout",
     "output_type": "stream",
     "text": [
      "Factorial of 5 is 120\n",
      "\n",
      "\n"
     ]
    }
   ],
   "source": [
    "# 8. Calculate the factorial of a number using a for loop and range().\n",
    "num = 5\n",
    "factorial = 1\n",
    "for i in range(1, num + 1):\n",
    "    factorial *= i\n",
    "print(f\"Factorial of {num} is {factorial}\")\n",
    "print(\"\\n\")"
   ]
  },
  {
   "cell_type": "code",
   "execution_count": 11,
   "id": "d5597681-af3c-49e1-8176-98dde8435274",
   "metadata": {},
   "outputs": [
    {
     "name": "stdout",
     "output_type": "stream",
     "text": [
      "1^2 = 1\n",
      "2^2 = 4\n",
      "3^2 = 9\n",
      "4^2 = 16\n",
      "5^2 = 25\n",
      "6^2 = 36\n",
      "7^2 = 49\n",
      "8^2 = 64\n",
      "9^2 = 81\n",
      "10^2 = 100\n",
      "\n",
      "\n"
     ]
    }
   ],
   "source": [
    "# 9. Print the square of numbers from 1 to 10 using a for loop and range(). \n",
    "for i in range(1, 11):\n",
    "    print(f\"{i}^2 = {i * i}\")\n",
    "print(\"\\n\") "
   ]
  },
  {
   "cell_type": "code",
   "execution_count": 12,
   "id": "2cdb1d69-0f45-42b4-8c85-babe8996f2b9",
   "metadata": {},
   "outputs": [
    {
     "name": "stdout",
     "output_type": "stream",
     "text": [
      "First 10 multiples of 3: [3, 6, 9, 12, 15, 18, 21, 24, 27, 30]\n",
      "\n",
      "\n"
     ]
    }
   ],
   "source": [
    "# 10. Generate a list of the first 10 multiples of 3 using a for loop and range().\n",
    "multiples = []\n",
    "for i in range(1, 11):\n",
    "    multiples.append(3 * i)\n",
    "print(\"First 10 multiples of 3:\", multiples)\n",
    "print(\"\\n\")"
   ]
  },
  {
   "cell_type": "code",
   "execution_count": null,
   "id": "8b1d15a7-e951-4509-8987-fa7c512cf7b6",
   "metadata": {},
   "outputs": [],
   "source": []
  }
 ],
 "metadata": {
  "kernelspec": {
   "display_name": "Python [conda env:base] *",
   "language": "python",
   "name": "conda-base-py"
  },
  "language_info": {
   "codemirror_mode": {
    "name": "ipython",
    "version": 3
   },
   "file_extension": ".py",
   "mimetype": "text/x-python",
   "name": "python",
   "nbconvert_exporter": "python",
   "pygments_lexer": "ipython3",
   "version": "3.13.5"
  }
 },
 "nbformat": 4,
 "nbformat_minor": 5
}

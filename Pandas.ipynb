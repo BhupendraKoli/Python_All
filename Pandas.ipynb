{
 "cells": [
  {
   "cell_type": "code",
   "execution_count": 4,
   "id": "f3c5449a-3d30-497d-a5d6-0641861da889",
   "metadata": {},
   "outputs": [],
   "source": [
    "# what is pandas?\n",
    "# pandas is a python library usees to working with tabular data \n",
    "# it has function for analysis cleaning, exploring and manipulating the data \n",
    "# it is makes data analysiseasy and fast  "
   ]
  },
  {
   "cell_type": "code",
   "execution_count": 3,
   "id": "7bd09f0b-52c3-4bdf-a2e4-bacfacd9a635",
   "metadata": {},
   "outputs": [],
   "source": [
    "import pandas as pd\n"
   ]
  },
  {
   "cell_type": "code",
   "execution_count": null,
   "id": "732e924a-d096-484e-b1b7-69724009c7ea",
   "metadata": {},
   "outputs": [],
   "source": [
    "pands provide 2 main data structure\n",
    "1 Series \n",
    "2 DataFrame"
   ]
  },
  {
   "cell_type": "markdown",
   "id": "2429002f-eaa4-465f-acc8-504e39fcd97c",
   "metadata": {},
   "source": [
    "Series\n",
    "is like a  single colume or 1d array  \n",
    "series(data,index,dtype)"
   ]
  },
  {
   "cell_type": "code",
   "execution_count": 5,
   "id": "54fae6e0-e9d7-43b4-823c-edfc9abeb85c",
   "metadata": {},
   "outputs": [
    {
     "name": "stdout",
     "output_type": "stream",
     "text": [
      "0    1\n",
      "1    2\n",
      "2    3\n",
      "3    4\n",
      "4    5\n",
      "5    6\n",
      "dtype: int64\n"
     ]
    }
   ],
   "source": [
    "list1=[1,2,3,4,5,6]\n",
    "s=pd.Series(list1)\n",
    "print(s)"
   ]
  },
  {
   "cell_type": "code",
   "execution_count": 8,
   "id": "ebfaafda-d79c-413d-8c12-db0656d64d9b",
   "metadata": {},
   "outputs": [
    {
     "name": "stdout",
     "output_type": "stream",
     "text": [
      "marathi      12.0\n",
      "hindi        13.0\n",
      "english      20.0\n",
      "maths        11.0\n",
      "Geography    17.0\n",
      "dtype: float64\n"
     ]
    }
   ],
   "source": [
    "#we can change the index and data type \n",
    "marks =[12,13,20,11,17]\n",
    "s=pd.Series(marks,index=[\"marathi\",\"hindi\",\"english\",\"maths\",\"Geography\"],dtype=float)\n",
    "print(s)"
   ]
  },
  {
   "cell_type": "code",
   "execution_count": 9,
   "id": "52851759-53ce-48d8-b638-83dd7f0ce326",
   "metadata": {},
   "outputs": [
    {
     "name": "stdout",
     "output_type": "stream",
     "text": [
      "20.0\n"
     ]
    },
    {
     "name": "stderr",
     "output_type": "stream",
     "text": [
      "C:\\Users\\kolib\\AppData\\Local\\Temp\\ipykernel_20328\\408939512.py:2: FutureWarning: Series.__getitem__ treating keys as positions is deprecated. In a future version, integer keys will always be treated as labels (consistent with DataFrame behavior). To access a value by position, use `ser.iloc[pos]`\n",
      "  print(s[2])\n"
     ]
    }
   ],
   "source": [
    "# indexing and scaling\n",
    "print(s[2])\n"
   ]
  },
  {
   "cell_type": "code",
   "execution_count": 10,
   "id": "f07ec285-a0a3-4d21-80b1-5992e1965baa",
   "metadata": {},
   "outputs": [
    {
     "name": "stdout",
     "output_type": "stream",
     "text": [
      "hindi        13.0\n",
      "english      20.0\n",
      "maths        11.0\n",
      "Geography    17.0\n",
      "dtype: float64\n"
     ]
    }
   ],
   "source": [
    "print(s[1:5])"
   ]
  },
  {
   "cell_type": "code",
   "execution_count": 11,
   "id": "6f51f25e-c186-4295-8d36-19e7815190cb",
   "metadata": {},
   "outputs": [
    {
     "name": "stdout",
     "output_type": "stream",
     "text": [
      "A    [1, 2, 3, 4, 5]\n",
      "B    [3, 4, 6, 7, 8]\n",
      "dtype: object\n"
     ]
    }
   ],
   "source": [
    "# we create a series by using the dictionary\n",
    "d={\"A\":[1,2,3,4,5],\"B\":[3,4,6,7,8]}\n",
    "s=pd.Series(d)\n",
    "print(s)\n",
    "\n"
   ]
  },
  {
   "cell_type": "code",
   "execution_count": 13,
   "id": "ba1d1da7-ac9e-47be-8935-de7216405636",
   "metadata": {},
   "outputs": [
    {
     "name": "stdout",
     "output_type": "stream",
     "text": [
      "d1    12\n",
      "d2    56\n",
      "d3    56\n",
      "d4    78\n",
      "dtype: int64\n",
      "<class 'pandas.core.series.Series'>\n"
     ]
    }
   ],
   "source": [
    "d={\"d1\":12,\"d2\":56,\"d3\":56,\"d4\":78}\n",
    "s=pd.Series(d)\n",
    "print(s)\n",
    "print(type(s))"
   ]
  },
  {
   "cell_type": "code",
   "execution_count": 15,
   "id": "95b0ea4c-884b-4977-b113-6ad8e0dc3268",
   "metadata": {},
   "outputs": [
    {
     "name": "stdout",
     "output_type": "stream",
     "text": [
      "d1    12\n",
      "d2    56\n",
      "dtype: int64\n"
     ]
    }
   ],
   "source": [
    "d={\"d1\":12,\"d2\":56,\"d3\":56,\"d4\":78}\n",
    "s=pd.Series(d,index=[\"d1\",\"d2\"])\n",
    "print(s)"
   ]
  },
  {
   "cell_type": "code",
   "execution_count": 19,
   "id": "7c2a9e51-aca1-4710-8def-1835a7903cb9",
   "metadata": {},
   "outputs": [
    {
     "name": "stdout",
     "output_type": "stream",
     "text": [
      "0    12\n",
      "1    12\n",
      "2    12\n",
      "3    12\n",
      "4    12\n",
      "dtype: int64\n"
     ]
    }
   ],
   "source": [
    "x=pd.Series(12,index=[0,1,2,3,4])\n",
    "print(x)"
   ]
  },
  {
   "cell_type": "code",
   "execution_count": 16,
   "id": "fbd59d8f-2f37-4c8a-b108-41a9da1d2e41",
   "metadata": {},
   "outputs": [
    {
     "name": "stdout",
     "output_type": "stream",
     "text": [
      "0    14\n",
      "1    16\n",
      "2    12\n",
      "3    11\n",
      "4    15\n",
      "dtype: int64\n"
     ]
    }
   ],
   "source": [
    "y=pd.Series ([14,16,12,11,15])\n",
    "print(y)"
   ]
  },
  {
   "cell_type": "code",
   "execution_count": 20,
   "id": "33dfc084-011e-4905-9361-29af1e1c15b5",
   "metadata": {},
   "outputs": [
    {
     "name": "stdout",
     "output_type": "stream",
     "text": [
      "0    26\n",
      "1    28\n",
      "2    24\n",
      "3    23\n",
      "4    27\n",
      "dtype: int64\n"
     ]
    }
   ],
   "source": [
    "# addition\n",
    "res=x+y\n",
    "print(res)"
   ]
  },
  {
   "cell_type": "code",
   "execution_count": 21,
   "id": "f5a4b679-76f3-4a8a-9225-be90963c60de",
   "metadata": {},
   "outputs": [
    {
     "name": "stdout",
     "output_type": "stream",
     "text": [
      "0   -2\n",
      "1   -4\n",
      "2    0\n",
      "3    1\n",
      "4   -3\n",
      "dtype: int64\n"
     ]
    }
   ],
   "source": [
    "# subtraction \n",
    "res=x-y\n",
    "print(res)"
   ]
  },
  {
   "cell_type": "code",
   "execution_count": 22,
   "id": "7e54b815-e325-4669-8720-64dc8c75858f",
   "metadata": {},
   "outputs": [
    {
     "name": "stdout",
     "output_type": "stream",
     "text": [
      "0    168\n",
      "1    192\n",
      "2    144\n",
      "3    132\n",
      "4    180\n",
      "dtype: int64\n"
     ]
    }
   ],
   "source": [
    "# multiple\n",
    "res=x*y\n",
    "print(res )\n"
   ]
  },
  {
   "cell_type": "code",
   "execution_count": 23,
   "id": "7e20beb0-20b3-439e-b400-3f0de9aef6e8",
   "metadata": {},
   "outputs": [
    {
     "name": "stdout",
     "output_type": "stream",
     "text": [
      "0    0.857143\n",
      "1    0.750000\n",
      "2    1.000000\n",
      "3    1.090909\n",
      "4    0.800000\n",
      "dtype: float64\n"
     ]
    }
   ],
   "source": [
    "# division\n",
    "res=x/y\n",
    "print(res)"
   ]
  },
  {
   "cell_type": "code",
   "execution_count": 24,
   "id": "4326c706-055f-4a12-b11a-4c92c75d37cb",
   "metadata": {},
   "outputs": [
    {
     "name": "stdout",
     "output_type": "stream",
     "text": [
      "0    12\n",
      "1    12\n",
      "2    12\n",
      "3    12\n",
      "4    12\n",
      "0    14\n",
      "1    16\n",
      "2    12\n",
      "3    11\n",
      "4    15\n",
      "dtype: int64\n"
     ]
    }
   ],
   "source": [
    "# concat\n",
    "res=pd.concat([x,y])\n",
    "print(res)"
   ]
  },
  {
   "cell_type": "code",
   "execution_count": 26,
   "id": "9c49e5e6-284c-4666-89a3-44d19f51af2f",
   "metadata": {},
   "outputs": [
    {
     "name": "stdout",
     "output_type": "stream",
     "text": [
      "0    12\n",
      "1    34\n",
      "2    56\n",
      "5    12\n",
      "dtype: int64\n"
     ]
    }
   ],
   "source": [
    "x=pd.Series([12,34,56])\n",
    "y=pd.Series(12,index=[5])\n",
    "res=pd.concat([x,y])\n",
    "print(res)"
   ]
  },
  {
   "cell_type": "code",
   "execution_count": 27,
   "id": "4d3063dc-5e68-4e31-aeec-566bfbfad129",
   "metadata": {},
   "outputs": [
    {
     "name": "stdout",
     "output_type": "stream",
     "text": [
      "0    100\n",
      "1     45\n",
      "2     56\n",
      "dtype: int64\n"
     ]
    }
   ],
   "source": [
    "# update\n",
    "s=pd.Series([34,45,56])\n",
    "s[0]=100\n",
    "print(s)"
   ]
  },
  {
   "cell_type": "code",
   "execution_count": 28,
   "id": "663369ab-9be1-4709-912c-c9a4d4644af5",
   "metadata": {},
   "outputs": [
    {
     "name": "stdout",
     "output_type": "stream",
     "text": [
      "0    34\n",
      "2    56\n",
      "3    12\n",
      "4    23\n",
      "5    52\n",
      "dtype: int64\n"
     ]
    }
   ],
   "source": [
    "# delete \n",
    "s=pd.Series([34,45,56,12,23,52])\n",
    "s=s.drop(1) # removing by position\n",
    "print(s)\n"
   ]
  },
  {
   "cell_type": "raw",
   "id": "a8c3c9fa-5ca9-4138-9cb5-7c7cccd7a483",
   "metadata": {},
   "source": [
    "Dataframe"
   ]
  },
  {
   "cell_type": "code",
   "execution_count": null,
   "id": "d8789370-5505-448b-81cb-917f1f77bff4",
   "metadata": {},
   "outputs": [],
   "source": [
    "# whta is data freame\n",
    "# pandas datafreame is a two dimensions array\n",
    "# or we can say complete table of colume and rows\n"
   ]
  },
  {
   "cell_type": "code",
   "execution_count": 29,
   "id": "431d338b-ae2b-41ca-9be2-273acc478865",
   "metadata": {},
   "outputs": [
    {
     "name": "stdout",
     "output_type": "stream",
     "text": [
      "   Naman  Lina  Komal\n",
      "0      1     3      3\n",
      "1      2     4      4\n",
      "2      3     6      6\n",
      "3      4     7      7\n",
      "4      5     8      8\n"
     ]
    }
   ],
   "source": [
    "d={\"Naman\":[1,2,3,4,5],\"Lina\":[3,4,6,7,8],\"Komal\":[3,4,6,7,8]}\n",
    "df=pd.DataFrame(d)\n",
    "print(df)"
   ]
  },
  {
   "cell_type": "code",
   "execution_count": 32,
   "id": "17623c2c-4a01-40ad-a88c-dfacfd7866d6",
   "metadata": {},
   "outputs": [
    {
     "name": "stdout",
     "output_type": "stream",
     "text": [
      "           Naman  Lina  Komal\n",
      "marathi       19    30     35\n",
      "hindi         29    45     45\n",
      "english       35    68     68\n",
      "maths         47    74     79\n",
      "Geography     50    86     86\n"
     ]
    }
   ],
   "source": [
    "d={\"Naman\":[19,29,35,47,50],\"Lina\":[30,45,68,74,86],\"Komal\":[35,45,68,79,86]}\n",
    "df=pd.DataFrame(d,index=[\"marathi\",\"hindi\",\"english\",\"maths\",\"Geography\"])\n",
    "print(df)"
   ]
  },
  {
   "cell_type": "code",
   "execution_count": 33,
   "id": "c8002d07-5850-483a-bbc7-94bcb5fa3336",
   "metadata": {},
   "outputs": [
    {
     "name": "stdout",
     "output_type": "stream",
     "text": [
      "           Naman\n",
      "marathi       19\n",
      "hindi         29\n",
      "english       35\n",
      "maths         47\n",
      "Geography     50\n"
     ]
    }
   ],
   "source": [
    "df=pd.DataFrame(d,columns=[\"Naman\"],index=[\"marathi\",\"hindi\",\"english\",\"maths\",\"Geography\"])\n",
    "print(df)"
   ]
  },
  {
   "cell_type": "code",
   "execution_count": 34,
   "id": "e371ef72-0157-4565-83eb-986cbbe6c356",
   "metadata": {},
   "outputs": [
    {
     "name": "stdout",
     "output_type": "stream",
     "text": [
      "    0   1   2   3\n",
      "0  12  23  56  67\n",
      "1  67  52  62  55\n"
     ]
    }
   ],
   "source": [
    "# we cretae a dataset by using the nested list \n",
    "list1=[[12,23,56,67],[67,52,62,55]]\n",
    "df=pd.DataFrame(list1)\n",
    "print(df)"
   ]
  },
  {
   "cell_type": "code",
   "execution_count": 51,
   "id": "14479609-445b-43ee-81c4-d49f259c529a",
   "metadata": {},
   "outputs": [],
   "source": [
    "# # i will create a Datframe by using a Series"
   ]
  },
  {
   "cell_type": "code",
   "execution_count": 52,
   "id": "bbac4a2c-0096-41fa-b9d6-9310b69ce73e",
   "metadata": {},
   "outputs": [
    {
     "name": "stdout",
     "output_type": "stream",
     "text": [
      "    A   B\n",
      "0  12  56\n",
      "1  34  23\n",
      "2  26  22\n",
      "3  31  55\n",
      "4  42  12\n"
     ]
    }
   ],
   "source": [
    "d={\"A\":pd.Series([12,34,26,31,42]),\"B\":pd.Series ([56,23,22,55,12])}\n",
    "dd=pd.DataFrame(d)\n",
    "print(dd)"
   ]
  },
  {
   "cell_type": "code",
   "execution_count": 53,
   "id": "6b5db8c8-4201-4165-a448-c59243b002a4",
   "metadata": {},
   "outputs": [
    {
     "name": "stdout",
     "output_type": "stream",
     "text": [
      "    A   B   C\n",
      "0  12  56  68\n",
      "1  34  23  57\n",
      "2  26  22  48\n",
      "3  31  55  86\n",
      "4  42  12  54\n"
     ]
    }
   ],
   "source": [
    "dd[\"C\"]=dd[\"A\"]+dd[\"B\"]\n",
    "print(dd)"
   ]
  },
  {
   "cell_type": "code",
   "execution_count": 62,
   "id": "78710776-325c-42b9-80ae-59797ef47c41",
   "metadata": {},
   "outputs": [
    {
     "name": "stdout",
     "output_type": "stream",
     "text": [
      "    A   B   C     D     E\n",
      "0  12  56  68  True  True\n",
      "1  34  23  57  True  True\n",
      "2  26  22  48  True  True\n",
      "3  31  55  86  True  True\n",
      "4  42  12  54  True  True\n"
     ]
    }
   ],
   "source": [
    "dd[\"E\"]=dd[\"C\"]>20\n",
    "print(dd)"
   ]
  },
  {
   "cell_type": "code",
   "execution_count": 63,
   "id": "e5a364aa-2e70-4444-b76f-6867c98b9476",
   "metadata": {},
   "outputs": [
    {
     "name": "stdout",
     "output_type": "stream",
     "text": [
      "    A   B  B1   C     D     E\n",
      "0  12  56  16  68  True  True\n",
      "1  34  23  23  57  True  True\n",
      "2  26  22  20  48  True  True\n",
      "3  31  55  25  86  True  True\n",
      "4  42  12  52  54  True  True\n"
     ]
    }
   ],
   "source": [
    "# insert(position,col_name,value)\n",
    "dd.insert(2,\"B1\",[16,23,20,25,52])\n",
    "\n",
    "print(dd)\n"
   ]
  },
  {
   "cell_type": "code",
   "execution_count": 64,
   "id": "f2a23b84-4b46-4182-bc54-a19aa83e943b",
   "metadata": {},
   "outputs": [
    {
     "data": {
      "text/html": [
       "<div>\n",
       "<style scoped>\n",
       "    .dataframe tbody tr th:only-of-type {\n",
       "        vertical-align: middle;\n",
       "    }\n",
       "\n",
       "    .dataframe tbody tr th {\n",
       "        vertical-align: top;\n",
       "    }\n",
       "\n",
       "    .dataframe thead th {\n",
       "        text-align: right;\n",
       "    }\n",
       "</style>\n",
       "<table border=\"1\" class=\"dataframe\">\n",
       "  <thead>\n",
       "    <tr style=\"text-align: right;\">\n",
       "      <th></th>\n",
       "      <th>A</th>\n",
       "      <th>B</th>\n",
       "      <th>B1</th>\n",
       "      <th>C</th>\n",
       "      <th>D</th>\n",
       "      <th>E</th>\n",
       "    </tr>\n",
       "  </thead>\n",
       "  <tbody>\n",
       "    <tr>\n",
       "      <th>0</th>\n",
       "      <td>12</td>\n",
       "      <td>56</td>\n",
       "      <td>16</td>\n",
       "      <td>68</td>\n",
       "      <td>True</td>\n",
       "      <td>True</td>\n",
       "    </tr>\n",
       "    <tr>\n",
       "      <th>1</th>\n",
       "      <td>34</td>\n",
       "      <td>23</td>\n",
       "      <td>23</td>\n",
       "      <td>57</td>\n",
       "      <td>True</td>\n",
       "      <td>True</td>\n",
       "    </tr>\n",
       "    <tr>\n",
       "      <th>2</th>\n",
       "      <td>26</td>\n",
       "      <td>22</td>\n",
       "      <td>20</td>\n",
       "      <td>48</td>\n",
       "      <td>True</td>\n",
       "      <td>True</td>\n",
       "    </tr>\n",
       "    <tr>\n",
       "      <th>3</th>\n",
       "      <td>31</td>\n",
       "      <td>55</td>\n",
       "      <td>25</td>\n",
       "      <td>86</td>\n",
       "      <td>True</td>\n",
       "      <td>True</td>\n",
       "    </tr>\n",
       "    <tr>\n",
       "      <th>4</th>\n",
       "      <td>42</td>\n",
       "      <td>12</td>\n",
       "      <td>52</td>\n",
       "      <td>54</td>\n",
       "      <td>True</td>\n",
       "      <td>True</td>\n",
       "    </tr>\n",
       "  </tbody>\n",
       "</table>\n",
       "</div>"
      ],
      "text/plain": [
       "    A   B  B1   C     D     E\n",
       "0  12  56  16  68  True  True\n",
       "1  34  23  23  57  True  True\n",
       "2  26  22  20  48  True  True\n",
       "3  31  55  25  86  True  True\n",
       "4  42  12  52  54  True  True"
      ]
     },
     "execution_count": 64,
     "metadata": {},
     "output_type": "execute_result"
    }
   ],
   "source": [
    "dd"
   ]
  },
  {
   "cell_type": "code",
   "execution_count": 65,
   "id": "ff016754-70b2-48a1-b892-3f1264095c46",
   "metadata": {},
   "outputs": [],
   "source": [
    "#delete \n",
    "del dd[\"B1\"]"
   ]
  },
  {
   "cell_type": "code",
   "execution_count": 66,
   "id": "cb9e54f1-3ded-445c-af95-e771e804cec1",
   "metadata": {},
   "outputs": [
    {
     "data": {
      "text/html": [
       "<div>\n",
       "<style scoped>\n",
       "    .dataframe tbody tr th:only-of-type {\n",
       "        vertical-align: middle;\n",
       "    }\n",
       "\n",
       "    .dataframe tbody tr th {\n",
       "        vertical-align: top;\n",
       "    }\n",
       "\n",
       "    .dataframe thead th {\n",
       "        text-align: right;\n",
       "    }\n",
       "</style>\n",
       "<table border=\"1\" class=\"dataframe\">\n",
       "  <thead>\n",
       "    <tr style=\"text-align: right;\">\n",
       "      <th></th>\n",
       "      <th>A</th>\n",
       "      <th>B</th>\n",
       "      <th>C</th>\n",
       "      <th>D</th>\n",
       "      <th>E</th>\n",
       "    </tr>\n",
       "  </thead>\n",
       "  <tbody>\n",
       "    <tr>\n",
       "      <th>0</th>\n",
       "      <td>12</td>\n",
       "      <td>56</td>\n",
       "      <td>68</td>\n",
       "      <td>True</td>\n",
       "      <td>True</td>\n",
       "    </tr>\n",
       "    <tr>\n",
       "      <th>1</th>\n",
       "      <td>34</td>\n",
       "      <td>23</td>\n",
       "      <td>57</td>\n",
       "      <td>True</td>\n",
       "      <td>True</td>\n",
       "    </tr>\n",
       "    <tr>\n",
       "      <th>2</th>\n",
       "      <td>26</td>\n",
       "      <td>22</td>\n",
       "      <td>48</td>\n",
       "      <td>True</td>\n",
       "      <td>True</td>\n",
       "    </tr>\n",
       "    <tr>\n",
       "      <th>3</th>\n",
       "      <td>31</td>\n",
       "      <td>55</td>\n",
       "      <td>86</td>\n",
       "      <td>True</td>\n",
       "      <td>True</td>\n",
       "    </tr>\n",
       "    <tr>\n",
       "      <th>4</th>\n",
       "      <td>42</td>\n",
       "      <td>12</td>\n",
       "      <td>54</td>\n",
       "      <td>True</td>\n",
       "      <td>True</td>\n",
       "    </tr>\n",
       "  </tbody>\n",
       "</table>\n",
       "</div>"
      ],
      "text/plain": [
       "    A   B   C     D     E\n",
       "0  12  56  68  True  True\n",
       "1  34  23  57  True  True\n",
       "2  26  22  48  True  True\n",
       "3  31  55  86  True  True\n",
       "4  42  12  54  True  True"
      ]
     },
     "execution_count": 66,
     "metadata": {},
     "output_type": "execute_result"
    }
   ],
   "source": [
    "dd"
   ]
  },
  {
   "cell_type": "code",
   "execution_count": 67,
   "id": "ead7b4cc-ca1a-4d33-94ba-88268ffdc964",
   "metadata": {},
   "outputs": [
    {
     "name": "stdout",
     "output_type": "stream",
     "text": [
      "    A   B   C   D     E\n",
      "0  12  56  68 -44  True\n",
      "1  34  23  57  11  True\n",
      "2  26  22  48   4  True\n",
      "3  31  55  86 -24  True\n",
      "4  42  12  54  30  True\n"
     ]
    }
   ],
   "source": [
    "dd[\"D\"]=dd[\"A\"]-dd[\"B\"]\n",
    "print(dd)"
   ]
  },
  {
   "cell_type": "code",
   "execution_count": 68,
   "id": "29757988-270e-40bd-a0bc-6bf887ccc71b",
   "metadata": {},
   "outputs": [
    {
     "data": {
      "text/html": [
       "<div>\n",
       "<style scoped>\n",
       "    .dataframe tbody tr th:only-of-type {\n",
       "        vertical-align: middle;\n",
       "    }\n",
       "\n",
       "    .dataframe tbody tr th {\n",
       "        vertical-align: top;\n",
       "    }\n",
       "\n",
       "    .dataframe thead th {\n",
       "        text-align: right;\n",
       "    }\n",
       "</style>\n",
       "<table border=\"1\" class=\"dataframe\">\n",
       "  <thead>\n",
       "    <tr style=\"text-align: right;\">\n",
       "      <th></th>\n",
       "      <th>A</th>\n",
       "      <th>B</th>\n",
       "      <th>C</th>\n",
       "      <th>D</th>\n",
       "      <th>E</th>\n",
       "    </tr>\n",
       "  </thead>\n",
       "  <tbody>\n",
       "    <tr>\n",
       "      <th>0</th>\n",
       "      <td>12</td>\n",
       "      <td>56</td>\n",
       "      <td>68</td>\n",
       "      <td>-44</td>\n",
       "      <td>True</td>\n",
       "    </tr>\n",
       "    <tr>\n",
       "      <th>1</th>\n",
       "      <td>34</td>\n",
       "      <td>23</td>\n",
       "      <td>57</td>\n",
       "      <td>11</td>\n",
       "      <td>True</td>\n",
       "    </tr>\n",
       "    <tr>\n",
       "      <th>2</th>\n",
       "      <td>26</td>\n",
       "      <td>22</td>\n",
       "      <td>48</td>\n",
       "      <td>4</td>\n",
       "      <td>True</td>\n",
       "    </tr>\n",
       "    <tr>\n",
       "      <th>3</th>\n",
       "      <td>31</td>\n",
       "      <td>55</td>\n",
       "      <td>86</td>\n",
       "      <td>-24</td>\n",
       "      <td>True</td>\n",
       "    </tr>\n",
       "    <tr>\n",
       "      <th>4</th>\n",
       "      <td>42</td>\n",
       "      <td>12</td>\n",
       "      <td>54</td>\n",
       "      <td>30</td>\n",
       "      <td>True</td>\n",
       "    </tr>\n",
       "  </tbody>\n",
       "</table>\n",
       "</div>"
      ],
      "text/plain": [
       "    A   B   C   D     E\n",
       "0  12  56  68 -44  True\n",
       "1  34  23  57  11  True\n",
       "2  26  22  48   4  True\n",
       "3  31  55  86 -24  True\n",
       "4  42  12  54  30  True"
      ]
     },
     "execution_count": 68,
     "metadata": {},
     "output_type": "execute_result"
    }
   ],
   "source": [
    "dd"
   ]
  },
  {
   "cell_type": "code",
   "execution_count": 69,
   "id": "1322640f-a6bb-4ca6-bd50-7ceb7603d982",
   "metadata": {},
   "outputs": [
    {
     "name": "stdout",
     "output_type": "stream",
     "text": [
      "0    True\n",
      "1    True\n",
      "2    True\n",
      "3    True\n",
      "4    True\n",
      "Name: E, dtype: bool\n"
     ]
    }
   ],
   "source": [
    "# pop \n",
    "# its return the remove column \n",
    "res=dd.pop(\"E\")\n",
    "print(res)"
   ]
  },
  {
   "cell_type": "code",
   "execution_count": 70,
   "id": "7e9ca181-2267-4b36-97ad-8c54d54eb372",
   "metadata": {},
   "outputs": [
    {
     "data": {
      "text/html": [
       "<div>\n",
       "<style scoped>\n",
       "    .dataframe tbody tr th:only-of-type {\n",
       "        vertical-align: middle;\n",
       "    }\n",
       "\n",
       "    .dataframe tbody tr th {\n",
       "        vertical-align: top;\n",
       "    }\n",
       "\n",
       "    .dataframe thead th {\n",
       "        text-align: right;\n",
       "    }\n",
       "</style>\n",
       "<table border=\"1\" class=\"dataframe\">\n",
       "  <thead>\n",
       "    <tr style=\"text-align: right;\">\n",
       "      <th></th>\n",
       "      <th>A</th>\n",
       "      <th>B</th>\n",
       "      <th>C</th>\n",
       "      <th>D</th>\n",
       "    </tr>\n",
       "  </thead>\n",
       "  <tbody>\n",
       "    <tr>\n",
       "      <th>0</th>\n",
       "      <td>12</td>\n",
       "      <td>56</td>\n",
       "      <td>68</td>\n",
       "      <td>-44</td>\n",
       "    </tr>\n",
       "    <tr>\n",
       "      <th>1</th>\n",
       "      <td>34</td>\n",
       "      <td>23</td>\n",
       "      <td>57</td>\n",
       "      <td>11</td>\n",
       "    </tr>\n",
       "    <tr>\n",
       "      <th>2</th>\n",
       "      <td>26</td>\n",
       "      <td>22</td>\n",
       "      <td>48</td>\n",
       "      <td>4</td>\n",
       "    </tr>\n",
       "    <tr>\n",
       "      <th>3</th>\n",
       "      <td>31</td>\n",
       "      <td>55</td>\n",
       "      <td>86</td>\n",
       "      <td>-24</td>\n",
       "    </tr>\n",
       "    <tr>\n",
       "      <th>4</th>\n",
       "      <td>42</td>\n",
       "      <td>12</td>\n",
       "      <td>54</td>\n",
       "      <td>30</td>\n",
       "    </tr>\n",
       "  </tbody>\n",
       "</table>\n",
       "</div>"
      ],
      "text/plain": [
       "    A   B   C   D\n",
       "0  12  56  68 -44\n",
       "1  34  23  57  11\n",
       "2  26  22  48   4\n",
       "3  31  55  86 -24\n",
       "4  42  12  54  30"
      ]
     },
     "execution_count": 70,
     "metadata": {},
     "output_type": "execute_result"
    }
   ],
   "source": [
    "dd"
   ]
  },
  {
   "cell_type": "code",
   "execution_count": 71,
   "id": "b27164cb-4cb1-4aec-9d8d-137f1d3d891b",
   "metadata": {},
   "outputs": [
    {
     "name": "stdout",
     "output_type": "stream",
     "text": [
      "0    True\n",
      "1    True\n",
      "2    True\n",
      "3    True\n",
      "4    True\n",
      "Name: E, dtype: bool\n"
     ]
    }
   ],
   "source": [
    "print(res) # output form the pop "
   ]
  },
  {
   "cell_type": "code",
   "execution_count": 72,
   "id": "b0aa4393-3e5a-46c3-a6a2-0d4ea6e86c9b",
   "metadata": {},
   "outputs": [
    {
     "data": {
      "text/plain": [
       "(5, 4)"
      ]
     },
     "execution_count": 72,
     "metadata": {},
     "output_type": "execute_result"
    }
   ],
   "source": [
    "dd.shape"
   ]
  },
  {
   "cell_type": "code",
   "execution_count": 73,
   "id": "297ef718-2826-4006-9c4b-2d2e2deb5bfb",
   "metadata": {},
   "outputs": [
    {
     "name": "stdout",
     "output_type": "stream",
     "text": [
      "<class 'pandas.core.frame.DataFrame'>\n",
      "RangeIndex: 5 entries, 0 to 4\n",
      "Data columns (total 4 columns):\n",
      " #   Column  Non-Null Count  Dtype\n",
      "---  ------  --------------  -----\n",
      " 0   A       5 non-null      int64\n",
      " 1   B       5 non-null      int64\n",
      " 2   C       5 non-null      int64\n",
      " 3   D       5 non-null      int64\n",
      "dtypes: int64(4)\n",
      "memory usage: 292.0 bytes\n"
     ]
    }
   ],
   "source": [
    "dd.info()"
   ]
  },
  {
   "cell_type": "markdown",
   "id": "0aa0c3c4-f0d0-494c-a4ed-8ef0ae57b03f",
   "metadata": {},
   "source": [
    "<!-- .loc (Label-based indexing):\n",
    ".loc is used to access rows and columns by their labels (names).\n",
    "\n",
    ".iloc (Integer-location based indexing):\n",
    ".iloc is used to access rows and columns by their integer positions (0-based index). -->"
   ]
  },
  {
   "cell_type": "code",
   "execution_count": null,
   "id": "be0d7b82-2410-4b33-b8ba-bc808bc0a3e9",
   "metadata": {},
   "outputs": [],
   "source": [
    "# iloc and loc"
   ]
  },
  {
   "cell_type": "code",
   "execution_count": 5,
   "id": "65ff6d10-45d0-43ca-9b5a-d266ea5c573e",
   "metadata": {},
   "outputs": [
    {
     "data": {
      "text/html": [
       "<div>\n",
       "<style scoped>\n",
       "    .dataframe tbody tr th:only-of-type {\n",
       "        vertical-align: middle;\n",
       "    }\n",
       "\n",
       "    .dataframe tbody tr th {\n",
       "        vertical-align: top;\n",
       "    }\n",
       "\n",
       "    .dataframe thead th {\n",
       "        text-align: right;\n",
       "    }\n",
       "</style>\n",
       "<table border=\"1\" class=\"dataframe\">\n",
       "  <thead>\n",
       "    <tr style=\"text-align: right;\">\n",
       "      <th></th>\n",
       "      <th>Student_id</th>\n",
       "      <th>Student_name</th>\n",
       "      <th>Course</th>\n",
       "      <th>Marks</th>\n",
       "      <th>Grade</th>\n",
       "    </tr>\n",
       "  </thead>\n",
       "  <tbody>\n",
       "    <tr>\n",
       "      <th>0</th>\n",
       "      <td>101</td>\n",
       "      <td>Jay</td>\n",
       "      <td>Maths</td>\n",
       "      <td>67</td>\n",
       "      <td>C</td>\n",
       "    </tr>\n",
       "    <tr>\n",
       "      <th>1</th>\n",
       "      <td>102</td>\n",
       "      <td>Ajay</td>\n",
       "      <td>English</td>\n",
       "      <td>89</td>\n",
       "      <td>A</td>\n",
       "    </tr>\n",
       "    <tr>\n",
       "      <th>2</th>\n",
       "      <td>103</td>\n",
       "      <td>jem</td>\n",
       "      <td>SST</td>\n",
       "      <td>79</td>\n",
       "      <td>B</td>\n",
       "    </tr>\n",
       "    <tr>\n",
       "      <th>3</th>\n",
       "      <td>104</td>\n",
       "      <td>Rohan</td>\n",
       "      <td>Geography</td>\n",
       "      <td>60</td>\n",
       "      <td>C</td>\n",
       "    </tr>\n",
       "    <tr>\n",
       "      <th>4</th>\n",
       "      <td>105</td>\n",
       "      <td>virat</td>\n",
       "      <td>Hindi</td>\n",
       "      <td>70</td>\n",
       "      <td>B</td>\n",
       "    </tr>\n",
       "  </tbody>\n",
       "</table>\n",
       "</div>"
      ],
      "text/plain": [
       "   Student_id Student_name     Course  Marks Grade\n",
       "0         101          Jay      Maths     67     C\n",
       "1         102         Ajay    English     89     A\n",
       "2         103          jem        SST     79     B\n",
       "3         104        Rohan  Geography     60     C\n",
       "4         105        virat      Hindi     70     B"
      ]
     },
     "execution_count": 5,
     "metadata": {},
     "output_type": "execute_result"
    }
   ],
   "source": [
    "d={\"Student_id\":[101,102,103,104,105],\n",
    "  \"Student_name\":[\"Jay\",\"Ajay\",\"jem\",\"Rohan\",\"virat\"],\n",
    "  \"Course\":[\"Maths\",\"English\",\"SST\",\"Geography\",\"Hindi\"],\n",
    "  \"Marks\":[67,89,79,60,70],\n",
    "  \"Grade\":[\"C\",\"A\",\"B\",\"C\",\"B\"]}\n",
    "df=pd.DataFrame(d)\n",
    "df"
   ]
  },
  {
   "cell_type": "code",
   "execution_count": 6,
   "id": "6cfe1559-e752-49cf-a44b-32557371cf92",
   "metadata": {},
   "outputs": [
    {
     "data": {
      "text/html": [
       "<div>\n",
       "<style scoped>\n",
       "    .dataframe tbody tr th:only-of-type {\n",
       "        vertical-align: middle;\n",
       "    }\n",
       "\n",
       "    .dataframe tbody tr th {\n",
       "        vertical-align: top;\n",
       "    }\n",
       "\n",
       "    .dataframe thead th {\n",
       "        text-align: right;\n",
       "    }\n",
       "</style>\n",
       "<table border=\"1\" class=\"dataframe\">\n",
       "  <thead>\n",
       "    <tr style=\"text-align: right;\">\n",
       "      <th></th>\n",
       "      <th>Student_id</th>\n",
       "      <th>Student_name</th>\n",
       "      <th>Course</th>\n",
       "      <th>Marks</th>\n",
       "      <th>Grade</th>\n",
       "    </tr>\n",
       "  </thead>\n",
       "  <tbody>\n",
       "    <tr>\n",
       "      <th>a</th>\n",
       "      <td>101</td>\n",
       "      <td>Jay</td>\n",
       "      <td>Maths</td>\n",
       "      <td>67</td>\n",
       "      <td>C</td>\n",
       "    </tr>\n",
       "    <tr>\n",
       "      <th>b</th>\n",
       "      <td>102</td>\n",
       "      <td>Ajay</td>\n",
       "      <td>English</td>\n",
       "      <td>89</td>\n",
       "      <td>A</td>\n",
       "    </tr>\n",
       "    <tr>\n",
       "      <th>c</th>\n",
       "      <td>103</td>\n",
       "      <td>jem</td>\n",
       "      <td>SST</td>\n",
       "      <td>79</td>\n",
       "      <td>B</td>\n",
       "    </tr>\n",
       "    <tr>\n",
       "      <th>d</th>\n",
       "      <td>104</td>\n",
       "      <td>Rohan</td>\n",
       "      <td>Geography</td>\n",
       "      <td>60</td>\n",
       "      <td>C</td>\n",
       "    </tr>\n",
       "    <tr>\n",
       "      <th>e</th>\n",
       "      <td>105</td>\n",
       "      <td>virat</td>\n",
       "      <td>Hindi</td>\n",
       "      <td>70</td>\n",
       "      <td>B</td>\n",
       "    </tr>\n",
       "  </tbody>\n",
       "</table>\n",
       "</div>"
      ],
      "text/plain": [
       "   Student_id Student_name     Course  Marks Grade\n",
       "a         101          Jay      Maths     67     C\n",
       "b         102         Ajay    English     89     A\n",
       "c         103          jem        SST     79     B\n",
       "d         104        Rohan  Geography     60     C\n",
       "e         105        virat      Hindi     70     B"
      ]
     },
     "execution_count": 6,
     "metadata": {},
     "output_type": "execute_result"
    }
   ],
   "source": [
    "df=pd.DataFrame(d,index=[\"a\",\"b\",\"c\",\"d\",\"e\"])\n",
    "df"
   ]
  },
  {
   "cell_type": "code",
   "execution_count": 7,
   "id": "02b6dc35-7691-43df-ae4a-7adfdb367b82",
   "metadata": {},
   "outputs": [
    {
     "data": {
      "text/plain": [
       "Index(['Student_id', 'Student_name', 'Course', 'Marks', 'Grade'], dtype='object')"
      ]
     },
     "execution_count": 7,
     "metadata": {},
     "output_type": "execute_result"
    }
   ],
   "source": [
    "df.columns\n"
   ]
  },
  {
   "cell_type": "code",
   "execution_count": 9,
   "id": "e2ecfd32-8fde-45ca-b6d0-80d36967d465",
   "metadata": {},
   "outputs": [
    {
     "data": {
      "text/html": [
       "<div>\n",
       "<style scoped>\n",
       "    .dataframe tbody tr th:only-of-type {\n",
       "        vertical-align: middle;\n",
       "    }\n",
       "\n",
       "    .dataframe tbody tr th {\n",
       "        vertical-align: top;\n",
       "    }\n",
       "\n",
       "    .dataframe thead th {\n",
       "        text-align: right;\n",
       "    }\n",
       "</style>\n",
       "<table border=\"1\" class=\"dataframe\">\n",
       "  <thead>\n",
       "    <tr style=\"text-align: right;\">\n",
       "      <th></th>\n",
       "      <th>Student_id</th>\n",
       "      <th>Student_name</th>\n",
       "      <th>Course</th>\n",
       "    </tr>\n",
       "  </thead>\n",
       "  <tbody>\n",
       "    <tr>\n",
       "      <th>a</th>\n",
       "      <td>101</td>\n",
       "      <td>Jay</td>\n",
       "      <td>Maths</td>\n",
       "    </tr>\n",
       "    <tr>\n",
       "      <th>b</th>\n",
       "      <td>102</td>\n",
       "      <td>Ajay</td>\n",
       "      <td>English</td>\n",
       "    </tr>\n",
       "    <tr>\n",
       "      <th>c</th>\n",
       "      <td>103</td>\n",
       "      <td>jem</td>\n",
       "      <td>SST</td>\n",
       "    </tr>\n",
       "  </tbody>\n",
       "</table>\n",
       "</div>"
      ],
      "text/plain": [
       "   Student_id Student_name   Course\n",
       "a         101          Jay    Maths\n",
       "b         102         Ajay  English\n",
       "c         103          jem      SST"
      ]
     },
     "execution_count": 9,
     "metadata": {},
     "output_type": "execute_result"
    }
   ],
   "source": [
    "# will fetch specific roe and colum\n",
    "df.loc[[\"a\",\"b\",\"c\"],[\"Student_id\",\"Student_name\",\"Course\"]]\n"
   ]
  },
  {
   "cell_type": "code",
   "execution_count": 11,
   "id": "48634454-3590-4288-8ffd-1734e2425e18",
   "metadata": {},
   "outputs": [
    {
     "data": {
      "text/html": [
       "<div>\n",
       "<style scoped>\n",
       "    .dataframe tbody tr th:only-of-type {\n",
       "        vertical-align: middle;\n",
       "    }\n",
       "\n",
       "    .dataframe tbody tr th {\n",
       "        vertical-align: top;\n",
       "    }\n",
       "\n",
       "    .dataframe thead th {\n",
       "        text-align: right;\n",
       "    }\n",
       "</style>\n",
       "<table border=\"1\" class=\"dataframe\">\n",
       "  <thead>\n",
       "    <tr style=\"text-align: right;\">\n",
       "      <th></th>\n",
       "      <th>Student_name</th>\n",
       "      <th>Course</th>\n",
       "    </tr>\n",
       "  </thead>\n",
       "  <tbody>\n",
       "    <tr>\n",
       "      <th>a</th>\n",
       "      <td>Jay</td>\n",
       "      <td>Maths</td>\n",
       "    </tr>\n",
       "    <tr>\n",
       "      <th>b</th>\n",
       "      <td>Ajay</td>\n",
       "      <td>English</td>\n",
       "    </tr>\n",
       "    <tr>\n",
       "      <th>c</th>\n",
       "      <td>jem</td>\n",
       "      <td>SST</td>\n",
       "    </tr>\n",
       "    <tr>\n",
       "      <th>d</th>\n",
       "      <td>Rohan</td>\n",
       "      <td>Geography</td>\n",
       "    </tr>\n",
       "    <tr>\n",
       "      <th>e</th>\n",
       "      <td>virat</td>\n",
       "      <td>Hindi</td>\n",
       "    </tr>\n",
       "  </tbody>\n",
       "</table>\n",
       "</div>"
      ],
      "text/plain": [
       "  Student_name     Course\n",
       "a          Jay      Maths\n",
       "b         Ajay    English\n",
       "c          jem        SST\n",
       "d        Rohan  Geography\n",
       "e        virat      Hindi"
      ]
     },
     "execution_count": 11,
     "metadata": {},
     "output_type": "execute_result"
    }
   ],
   "source": [
    "# fetch all rows and spefice columen\n",
    "df.loc[:,[\"Student_name\",\"Course\"]]"
   ]
  },
  {
   "cell_type": "code",
   "execution_count": 12,
   "id": "535bef08-e924-4097-9bcb-51a95733a1cf",
   "metadata": {},
   "outputs": [
    {
     "data": {
      "text/plain": [
       "Student_id        101\n",
       "Student_name      Jay\n",
       "Course          Maths\n",
       "Marks              67\n",
       "Grade               C\n",
       "Name: a, dtype: object"
      ]
     },
     "execution_count": 12,
     "metadata": {},
     "output_type": "execute_result"
    }
   ],
   "source": [
    "df.loc[\"a\"]"
   ]
  },
  {
   "cell_type": "code",
   "execution_count": 13,
   "id": "7b1c4b6f-5b01-416a-b1bd-2607ad8f8b17",
   "metadata": {},
   "outputs": [
    {
     "data": {
      "text/plain": [
       "Student_id        101\n",
       "Student_name      Jay\n",
       "Course          Maths\n",
       "Marks              67\n",
       "Grade               C\n",
       "Name: a, dtype: object"
      ]
     },
     "execution_count": 13,
     "metadata": {},
     "output_type": "execute_result"
    }
   ],
   "source": [
    "df.iloc[0]"
   ]
  },
  {
   "cell_type": "code",
   "execution_count": null,
   "id": "2b19f778-1ee7-4935-bdcb-516e53af51f0",
   "metadata": {},
   "outputs": [],
   "source": []
  }
 ],
 "metadata": {
  "kernelspec": {
   "display_name": "Python [conda env:base] *",
   "language": "python",
   "name": "conda-base-py"
  },
  "language_info": {
   "codemirror_mode": {
    "name": "ipython",
    "version": 3
   },
   "file_extension": ".py",
   "mimetype": "text/x-python",
   "name": "python",
   "nbconvert_exporter": "python",
   "pygments_lexer": "ipython3",
   "version": "3.13.5"
  }
 },
 "nbformat": 4,
 "nbformat_minor": 5
}
